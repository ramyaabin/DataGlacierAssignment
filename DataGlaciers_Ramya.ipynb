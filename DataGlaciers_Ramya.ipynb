{
 "cells": [
  {
   "cell_type": "markdown",
   "id": "7a9e50ff-5e03-458a-ba90-c0b4038aa808",
   "metadata": {},
   "source": [
    "![project](project.JPG) \n",
    "\n",
    "### About Project :\n",
    "\n",
    "The purpose of this Project is making suggestion on \"Investment\" for a Company XYZ in United States of America by analyzing and investigating the records of two Cab Companies based on  the informations provided. \n",
    "\n",
    "### The Client : XYZ\n",
    "\n",
    "XYZ is a private firm in US. Due to remarkable growth in the Cab Industry in last few years and multiple key players in the market, it is planning for an investment in Cab industry and as per their Go-to-Market(G2M) strategy they want to understand the market before taking final decision.\n",
    "\n",
    "### Project delivery :\n",
    "\n",
    "• You have been provided with multiple data sets that contains information on 2 cab companies. Each file (data set) provided represents different aspects of the customer profile. XYZ is interested in using your actionable insights to help them identify `the right company to make their investment.`\n",
    "\n",
    "• The outcome of your delivery will be a presentation to XYZ’s Executive team. This presentation will be judged based on the visuals provided, the quality of your analysis and the value of your recommendations and insights. \n",
    "\n",
    "### Data Set :\n",
    "\n",
    "You have been provided `4 individual data sets. Time period of data is from 31/01/2016 to 31/12/2018.`\n",
    "Below are the list of datasets which are provided for the analysis:\n",
    "\n",
    "` 1) Cab_Data.csv` – this file includes details of transaction for 2 cab companies.\n",
    "\n",
    "` 2) Customer_ID.csv` – this is a mapping table that contains a unique identifier which links the customer’s demographic details.\n",
    "\n",
    "` 3) Transaction_ID.csv` – this is a mapping table that contains transaction to customer mapping and payment mode.\n",
    "\n",
    "` 4)City.csv` – this file contains list of US cities, their population and number of cab users.`\n",
    "\n",
    "### You should fully investigate and understand each data set.\n",
    "\n",
    "• Review the Source Documentation\n",
    "\n",
    "• Understand the field names and data types\n",
    "\n",
    "• Identify relationships across the files\n",
    "\n",
    "• Field/feature transformations\n",
    "\n",
    "• Determine which files should be joined versus which ones should be appended\n",
    "\n",
    "• Create master data and explain the relationship\n",
    "\n",
    "• Identify and remove duplicates\n",
    "\n",
    "• Perform other analysis like NA value and outlier detection\n",
    "\n",
    "### Analysis :\n",
    "\n",
    "• Create multiple hypothesis \n",
    "\n",
    "### Areas to investigate :\n",
    "\n",
    "• Which company has maximum cab users at a particular time period?\n",
    "\n",
    "• Does margin proportionally increase with increase in number of customers?\n",
    "\n",
    "• What are the attributes of these customer segments?\n",
    "\n"
   ]
  },
  {
   "cell_type": "markdown",
   "id": "6ecab695-70af-4ad1-ac34-f4c191e86ec1",
   "metadata": {},
   "source": [
    "## Importing Libraries"
   ]
  },
  {
   "cell_type": "code",
   "execution_count": 1,
   "id": "b12b1ec0-0f60-48b3-9139-c5a0406e3ac4",
   "metadata": {},
   "outputs": [],
   "source": [
    "# Data Loading and Numerical Operations\n",
    "import numpy as np\n",
    "import pandas as pd\n",
    "# Data Visualizations\n",
    "import matplotlib.pyplot as plt\n",
    "import seaborn as sns\n",
    "import warnings\n",
    "# Time conversion\n",
    "from datetime import datetime, timedelta\n",
    "warnings.filterwarnings('ignore')\n",
    "# Data Scaling\n",
    "from sklearn.preprocessing import MinMaxScaler\n",
    "# Data Splitting\n",
    "from sklearn.model_selection import train_test_split\n",
    "# Data Modeling\n",
    "from sklearn import datasets, linear_model, metrics\n",
    "from sklearn.metrics import confusion_matrix, accuracy_score, classification_report\n",
    "# Hyperparameter Tuning\n",
    "from sklearn.model_selection import RandomizedSearchCV\n",
    "from sklearn.model_selection import cross_val_score\n",
    "from scipy import stats"
   ]
  },
  {
   "cell_type": "markdown",
   "id": "0d634023-3089-437b-b35d-5e0ec4e95266",
   "metadata": {},
   "source": [
    "## Importing Cab_Data.csv"
   ]
  },
  {
   "cell_type": "code",
   "execution_count": 2,
   "id": "b4b80cdf",
   "metadata": {},
   "outputs": [
    {
     "data": {
      "text/html": [
       "<div>\n",
       "<style scoped>\n",
       "    .dataframe tbody tr th:only-of-type {\n",
       "        vertical-align: middle;\n",
       "    }\n",
       "\n",
       "    .dataframe tbody tr th {\n",
       "        vertical-align: top;\n",
       "    }\n",
       "\n",
       "    .dataframe thead th {\n",
       "        text-align: right;\n",
       "    }\n",
       "</style>\n",
       "<table border=\"1\" class=\"dataframe\">\n",
       "  <thead>\n",
       "    <tr style=\"text-align: right;\">\n",
       "      <th></th>\n",
       "      <th>Transaction ID</th>\n",
       "      <th>Date of Travel</th>\n",
       "      <th>Company</th>\n",
       "      <th>City</th>\n",
       "      <th>KM Travelled</th>\n",
       "      <th>Price Charged</th>\n",
       "      <th>Cost of Trip</th>\n",
       "    </tr>\n",
       "  </thead>\n",
       "  <tbody>\n",
       "    <tr>\n",
       "      <th>0</th>\n",
       "      <td>10000011</td>\n",
       "      <td>42377</td>\n",
       "      <td>Pink Cab</td>\n",
       "      <td>ATLANTA GA</td>\n",
       "      <td>30.45</td>\n",
       "      <td>370.95</td>\n",
       "      <td>313.635</td>\n",
       "    </tr>\n",
       "    <tr>\n",
       "      <th>1</th>\n",
       "      <td>10000012</td>\n",
       "      <td>42375</td>\n",
       "      <td>Pink Cab</td>\n",
       "      <td>ATLANTA GA</td>\n",
       "      <td>28.62</td>\n",
       "      <td>358.52</td>\n",
       "      <td>334.854</td>\n",
       "    </tr>\n",
       "    <tr>\n",
       "      <th>2</th>\n",
       "      <td>10000013</td>\n",
       "      <td>42371</td>\n",
       "      <td>Pink Cab</td>\n",
       "      <td>ATLANTA GA</td>\n",
       "      <td>9.04</td>\n",
       "      <td>125.20</td>\n",
       "      <td>97.632</td>\n",
       "    </tr>\n",
       "    <tr>\n",
       "      <th>3</th>\n",
       "      <td>10000014</td>\n",
       "      <td>42376</td>\n",
       "      <td>Pink Cab</td>\n",
       "      <td>ATLANTA GA</td>\n",
       "      <td>33.17</td>\n",
       "      <td>377.40</td>\n",
       "      <td>351.602</td>\n",
       "    </tr>\n",
       "    <tr>\n",
       "      <th>4</th>\n",
       "      <td>10000015</td>\n",
       "      <td>42372</td>\n",
       "      <td>Pink Cab</td>\n",
       "      <td>ATLANTA GA</td>\n",
       "      <td>8.73</td>\n",
       "      <td>114.62</td>\n",
       "      <td>97.776</td>\n",
       "    </tr>\n",
       "  </tbody>\n",
       "</table>\n",
       "</div>"
      ],
      "text/plain": [
       "   Transaction ID  Date of Travel   Company        City  KM Travelled  \\\n",
       "0        10000011           42377  Pink Cab  ATLANTA GA         30.45   \n",
       "1        10000012           42375  Pink Cab  ATLANTA GA         28.62   \n",
       "2        10000013           42371  Pink Cab  ATLANTA GA          9.04   \n",
       "3        10000014           42376  Pink Cab  ATLANTA GA         33.17   \n",
       "4        10000015           42372  Pink Cab  ATLANTA GA          8.73   \n",
       "\n",
       "   Price Charged  Cost of Trip  \n",
       "0         370.95       313.635  \n",
       "1         358.52       334.854  \n",
       "2         125.20        97.632  \n",
       "3         377.40       351.602  \n",
       "4         114.62        97.776  "
      ]
     },
     "execution_count": 2,
     "metadata": {},
     "output_type": "execute_result"
    }
   ],
   "source": [
    "df_cab = pd.read_csv(\"Cab_Data.csv\")\n",
    "df_cab.head()"
   ]
  },
  {
   "cell_type": "markdown",
   "id": "b7963920-9560-407d-8fac-b9e4c0ca4796",
   "metadata": {},
   "source": [
    "### This file contains The Cab Companies Information.\n",
    "#### - Number of Cab Companies-2 \n",
    "#### - Names of Cab Companies - Yellow Cab and Pink Cab\n",
    "#### - Date of Travel\n",
    "#### - City\n",
    "#### - Kilometers Travelled \n",
    "#### - Price Charged by each company\n",
    "#### - Cost of Trip"
   ]
  },
  {
   "cell_type": "markdown",
   "id": "8bbf3029-0e56-4fd0-85df-df01f2838604",
   "metadata": {},
   "source": [
    "## Info of Cab Dataset"
   ]
  },
  {
   "cell_type": "code",
   "execution_count": 3,
   "id": "ec82fda8-60fa-4f7d-a8de-73db9c58040b",
   "metadata": {},
   "outputs": [
    {
     "data": {
      "text/plain": [
       "<bound method DataFrame.info of         Transaction ID  Date of Travel     Company           City  \\\n",
       "0             10000011           42377    Pink Cab     ATLANTA GA   \n",
       "1             10000012           42375    Pink Cab     ATLANTA GA   \n",
       "2             10000013           42371    Pink Cab     ATLANTA GA   \n",
       "3             10000014           42376    Pink Cab     ATLANTA GA   \n",
       "4             10000015           42372    Pink Cab     ATLANTA GA   \n",
       "...                ...             ...         ...            ...   \n",
       "359387        10440101           43108  Yellow Cab  WASHINGTON DC   \n",
       "359388        10440104           43104  Yellow Cab  WASHINGTON DC   \n",
       "359389        10440105           43105  Yellow Cab  WASHINGTON DC   \n",
       "359390        10440106           43105  Yellow Cab  WASHINGTON DC   \n",
       "359391        10440107           43102  Yellow Cab  WASHINGTON DC   \n",
       "\n",
       "        KM Travelled  Price Charged  Cost of Trip  \n",
       "0              30.45         370.95      313.6350  \n",
       "1              28.62         358.52      334.8540  \n",
       "2               9.04         125.20       97.6320  \n",
       "3              33.17         377.40      351.6020  \n",
       "4               8.73         114.62       97.7760  \n",
       "...              ...            ...           ...  \n",
       "359387          4.80          69.24       63.3600  \n",
       "359388          8.40         113.75      106.8480  \n",
       "359389         27.75         437.07      349.6500  \n",
       "359390          8.80         146.19      114.0480  \n",
       "359391         12.76         191.58      177.6192  \n",
       "\n",
       "[359392 rows x 7 columns]>"
      ]
     },
     "execution_count": 3,
     "metadata": {},
     "output_type": "execute_result"
    }
   ],
   "source": [
    "df_cab.info"
   ]
  },
  {
   "cell_type": "markdown",
   "id": "b5657016-8e9b-47be-91b8-e87e57b3c6ee",
   "metadata": {},
   "source": [
    "### Data Shape (Number of Columns and Rows) for Cab Dataset"
   ]
  },
  {
   "cell_type": "code",
   "execution_count": 4,
   "id": "36c80089",
   "metadata": {},
   "outputs": [
    {
     "data": {
      "text/plain": [
       "(359392, 7)"
      ]
     },
     "execution_count": 4,
     "metadata": {},
     "output_type": "execute_result"
    }
   ],
   "source": [
    "df_cab.shape #  print the number of rows and columns of my DataFrame"
   ]
  },
  {
   "cell_type": "markdown",
   "id": "7d4db6b5",
   "metadata": {},
   "source": [
    "### Checking Statistical Measure for Cab Dataset:"
   ]
  },
  {
   "cell_type": "code",
   "execution_count": 5,
   "id": "e28e6c05",
   "metadata": {},
   "outputs": [
    {
     "data": {
      "text/html": [
       "<div>\n",
       "<style scoped>\n",
       "    .dataframe tbody tr th:only-of-type {\n",
       "        vertical-align: middle;\n",
       "    }\n",
       "\n",
       "    .dataframe tbody tr th {\n",
       "        vertical-align: top;\n",
       "    }\n",
       "\n",
       "    .dataframe thead th {\n",
       "        text-align: right;\n",
       "    }\n",
       "</style>\n",
       "<table border=\"1\" class=\"dataframe\">\n",
       "  <thead>\n",
       "    <tr style=\"text-align: right;\">\n",
       "      <th></th>\n",
       "      <th>Transaction ID</th>\n",
       "      <th>Date of Travel</th>\n",
       "      <th>KM Travelled</th>\n",
       "      <th>Price Charged</th>\n",
       "      <th>Cost of Trip</th>\n",
       "    </tr>\n",
       "  </thead>\n",
       "  <tbody>\n",
       "    <tr>\n",
       "      <th>count</th>\n",
       "      <td>3.593920e+05</td>\n",
       "      <td>359392.000000</td>\n",
       "      <td>359392.000000</td>\n",
       "      <td>359392.000000</td>\n",
       "      <td>359392.000000</td>\n",
       "    </tr>\n",
       "    <tr>\n",
       "      <th>mean</th>\n",
       "      <td>1.022076e+07</td>\n",
       "      <td>42964.067998</td>\n",
       "      <td>22.567254</td>\n",
       "      <td>423.443311</td>\n",
       "      <td>286.190113</td>\n",
       "    </tr>\n",
       "    <tr>\n",
       "      <th>std</th>\n",
       "      <td>1.268058e+05</td>\n",
       "      <td>307.467197</td>\n",
       "      <td>12.233526</td>\n",
       "      <td>274.378911</td>\n",
       "      <td>157.993661</td>\n",
       "    </tr>\n",
       "    <tr>\n",
       "      <th>min</th>\n",
       "      <td>1.000001e+07</td>\n",
       "      <td>42371.000000</td>\n",
       "      <td>1.900000</td>\n",
       "      <td>15.600000</td>\n",
       "      <td>19.000000</td>\n",
       "    </tr>\n",
       "    <tr>\n",
       "      <th>25%</th>\n",
       "      <td>1.011081e+07</td>\n",
       "      <td>42697.000000</td>\n",
       "      <td>12.000000</td>\n",
       "      <td>206.437500</td>\n",
       "      <td>151.200000</td>\n",
       "    </tr>\n",
       "    <tr>\n",
       "      <th>50%</th>\n",
       "      <td>1.022104e+07</td>\n",
       "      <td>42988.000000</td>\n",
       "      <td>22.440000</td>\n",
       "      <td>386.360000</td>\n",
       "      <td>282.480000</td>\n",
       "    </tr>\n",
       "    <tr>\n",
       "      <th>75%</th>\n",
       "      <td>1.033094e+07</td>\n",
       "      <td>43232.000000</td>\n",
       "      <td>32.960000</td>\n",
       "      <td>583.660000</td>\n",
       "      <td>413.683200</td>\n",
       "    </tr>\n",
       "    <tr>\n",
       "      <th>max</th>\n",
       "      <td>1.044011e+07</td>\n",
       "      <td>43465.000000</td>\n",
       "      <td>48.000000</td>\n",
       "      <td>2048.030000</td>\n",
       "      <td>691.200000</td>\n",
       "    </tr>\n",
       "  </tbody>\n",
       "</table>\n",
       "</div>"
      ],
      "text/plain": [
       "       Transaction ID  Date of Travel   KM Travelled  Price Charged  \\\n",
       "count    3.593920e+05   359392.000000  359392.000000  359392.000000   \n",
       "mean     1.022076e+07    42964.067998      22.567254     423.443311   \n",
       "std      1.268058e+05      307.467197      12.233526     274.378911   \n",
       "min      1.000001e+07    42371.000000       1.900000      15.600000   \n",
       "25%      1.011081e+07    42697.000000      12.000000     206.437500   \n",
       "50%      1.022104e+07    42988.000000      22.440000     386.360000   \n",
       "75%      1.033094e+07    43232.000000      32.960000     583.660000   \n",
       "max      1.044011e+07    43465.000000      48.000000    2048.030000   \n",
       "\n",
       "        Cost of Trip  \n",
       "count  359392.000000  \n",
       "mean      286.190113  \n",
       "std       157.993661  \n",
       "min        19.000000  \n",
       "25%       151.200000  \n",
       "50%       282.480000  \n",
       "75%       413.683200  \n",
       "max       691.200000  "
      ]
     },
     "execution_count": 5,
     "metadata": {},
     "output_type": "execute_result"
    }
   ],
   "source": [
    "df_cab.describe() #The describe() method returns description of the data in the DataFrame"
   ]
  },
  {
   "cell_type": "markdown",
   "id": "64e7664a",
   "metadata": {},
   "source": [
    "## Data Preprocessing "
   ]
  },
  {
   "cell_type": "markdown",
   "id": "855ee2ce-77a9-42d3-a626-ea00ee0cb669",
   "metadata": {},
   "source": [
    "### Checking Null Values for Cab Dataset"
   ]
  },
  {
   "cell_type": "code",
   "execution_count": 6,
   "id": "5a57aff5",
   "metadata": {},
   "outputs": [
    {
     "data": {
      "text/plain": [
       "Transaction ID    0\n",
       "Date of Travel    0\n",
       "Company           0\n",
       "City              0\n",
       "KM Travelled      0\n",
       "Price Charged     0\n",
       "Cost of Trip      0\n",
       "dtype: int64"
      ]
     },
     "execution_count": 6,
     "metadata": {},
     "output_type": "execute_result"
    }
   ],
   "source": [
    "df_cab.isnull().sum().sort_values(ascending=False) # df.isnull().sum() prints the column with missing value."
   ]
  },
  {
   "cell_type": "markdown",
   "id": "b06fc643-320f-4392-a651-f15e7be5b711",
   "metadata": {},
   "source": [
    "### Checking Dupicates for Cab Dataset"
   ]
  },
  {
   "cell_type": "code",
   "execution_count": 7,
   "id": "055a8bb2",
   "metadata": {},
   "outputs": [
    {
     "data": {
      "text/plain": [
       "0"
      ]
     },
     "execution_count": 7,
     "metadata": {},
     "output_type": "execute_result"
    }
   ],
   "source": [
    "df_cab.duplicated().sum()"
   ]
  },
  {
   "cell_type": "markdown",
   "id": "17df4dcf-1241-4a55-9ae6-ee070c42e514",
   "metadata": {},
   "source": [
    "### A small analysis done on Cab Data "
   ]
  },
  {
   "cell_type": "code",
   "execution_count": 8,
   "id": "0fc7b38c",
   "metadata": {},
   "outputs": [
    {
     "data": {
      "text/html": [
       "<div>\n",
       "<style scoped>\n",
       "    .dataframe tbody tr th:only-of-type {\n",
       "        vertical-align: middle;\n",
       "    }\n",
       "\n",
       "    .dataframe tbody tr th {\n",
       "        vertical-align: top;\n",
       "    }\n",
       "\n",
       "    .dataframe thead th {\n",
       "        text-align: right;\n",
       "    }\n",
       "</style>\n",
       "<table border=\"1\" class=\"dataframe\">\n",
       "  <thead>\n",
       "    <tr style=\"text-align: right;\">\n",
       "      <th></th>\n",
       "      <th>KM Travelled</th>\n",
       "    </tr>\n",
       "    <tr>\n",
       "      <th>Company</th>\n",
       "      <th></th>\n",
       "    </tr>\n",
       "  </thead>\n",
       "  <tbody>\n",
       "    <tr>\n",
       "      <th>Pink Cab</th>\n",
       "      <td>1911073.11</td>\n",
       "    </tr>\n",
       "    <tr>\n",
       "      <th>Yellow Cab</th>\n",
       "      <td>6199417.47</td>\n",
       "    </tr>\n",
       "  </tbody>\n",
       "</table>\n",
       "</div>"
      ],
      "text/plain": [
       "            KM Travelled\n",
       "Company                 \n",
       "Pink Cab      1911073.11\n",
       "Yellow Cab    6199417.47"
      ]
     },
     "execution_count": 8,
     "metadata": {},
     "output_type": "execute_result"
    }
   ],
   "source": [
    "df_cab_group = df_cab[['KM Travelled','Company']].groupby('Company').sum()\n",
    "df_cab_group # Output says yellow cab travelled more kms than pink cab"
   ]
  },
  {
   "cell_type": "markdown",
   "id": "5252bafd-9c92-41be-9394-52d85cdf3c78",
   "metadata": {},
   "source": [
    "### - Noticed Yellow Cab travelled more kilometers as compared to Pink Cab"
   ]
  },
  {
   "cell_type": "markdown",
   "id": "9fb3de6f-9ac8-404a-94ba-b0b247156de8",
   "metadata": {},
   "source": [
    "### Checking the counts for both Cab Companies"
   ]
  },
  {
   "cell_type": "code",
   "execution_count": 9,
   "id": "888f2846",
   "metadata": {},
   "outputs": [
    {
     "name": "stdout",
     "output_type": "stream",
     "text": [
      "Company   \n",
      "Yellow Cab    274681\n",
      "Pink Cab       84711\n",
      "dtype: int64\n"
     ]
    }
   ],
   "source": [
    "id = df_cab[['Company']]\n",
    "id.value_counts()\n",
    "print(id.value_counts()) # Yellow cab was used more as compared to Pink Cab"
   ]
  },
  {
   "cell_type": "markdown",
   "id": "9bcd5707-b12b-42c3-8a9d-c0b92a10f52c",
   "metadata": {},
   "source": [
    "### - Output : Yellow cab was used more as compared to Pink Cab"
   ]
  },
  {
   "cell_type": "markdown",
   "id": "9caa32f8-3514-45d8-9992-acb367f47a1e",
   "metadata": {},
   "source": [
    "### Visualizing both the Companies "
   ]
  },
  {
   "cell_type": "code",
   "execution_count": 10,
   "id": "412c10f4",
   "metadata": {},
   "outputs": [
    {
     "data": {
      "image/png": "[encoded data removed]",
      "text/plain": [
       "<Figure size 432x288 with 1 Axes>"
      ]
     },
     "metadata": {},
     "output_type": "display_data"
    }
   ],
   "source": [
    "sns.set_theme(style=\"whitegrid\")\n",
    "Companies = sns.countplot(x=\"Company\", palette=['Pink', 'Yellow'], data=df_cab)"
   ]
  },
  {
   "cell_type": "markdown",
   "id": "67c32496-ab02-497a-aea7-5c8dc5ae67ea",
   "metadata": {},
   "source": [
    "### Changing the Date Format "
   ]
  },
  {
   "cell_type": "code",
   "execution_count": 11,
   "id": "04d4c74b",
   "metadata": {},
   "outputs": [],
   "source": [
    "from datetime import datetime,timedelta"
   ]
  },
  {
   "cell_type": "code",
   "execution_count": 12,
   "id": "eb52b0c7",
   "metadata": {},
   "outputs": [
    {
     "data": {
      "text/plain": [
       "'31/12/18'"
      ]
     },
     "execution_count": 12,
     "metadata": {},
     "output_type": "execute_result"
    }
   ],
   "source": [
    "datetime.strftime(datetime(1899, 12, 30) + timedelta(days=43465), '%d/%m/%y')"
   ]
  },
  {
   "cell_type": "code",
   "execution_count": 13,
   "id": "552f35f8",
   "metadata": {},
   "outputs": [],
   "source": [
    "df_cab['Date'] =df_cab['Date of Travel'].apply(lambda x: datetime.strftime(datetime(1899, 12, 30) + timedelta(days=x), '%d/%m/%y'))"
   ]
  },
  {
   "cell_type": "code",
   "execution_count": 14,
   "id": "6f5b9228",
   "metadata": {},
   "outputs": [],
   "source": [
    "df_cab=df_cab.drop(['Date of Travel'],axis=1)"
   ]
  },
  {
   "cell_type": "code",
   "execution_count": 15,
   "id": "3aebb764",
   "metadata": {},
   "outputs": [
    {
     "data": {
      "text/html": [
       "<div>\n",
       "<style scoped>\n",
       "    .dataframe tbody tr th:only-of-type {\n",
       "        vertical-align: middle;\n",
       "    }\n",
       "\n",
       "    .dataframe tbody tr th {\n",
       "        vertical-align: top;\n",
       "    }\n",
       "\n",
       "    .dataframe thead th {\n",
       "        text-align: right;\n",
       "    }\n",
       "</style>\n",
       "<table border=\"1\" class=\"dataframe\">\n",
       "  <thead>\n",
       "    <tr style=\"text-align: right;\">\n",
       "      <th></th>\n",
       "      <th>Transaction ID</th>\n",
       "      <th>Company</th>\n",
       "      <th>City</th>\n",
       "      <th>KM Travelled</th>\n",
       "      <th>Price Charged</th>\n",
       "      <th>Cost of Trip</th>\n",
       "      <th>Date</th>\n",
       "    </tr>\n",
       "  </thead>\n",
       "  <tbody>\n",
       "    <tr>\n",
       "      <th>0</th>\n",
       "      <td>10000011</td>\n",
       "      <td>Pink Cab</td>\n",
       "      <td>ATLANTA GA</td>\n",
       "      <td>30.45</td>\n",
       "      <td>370.95</td>\n",
       "      <td>313.6350</td>\n",
       "      <td>08/01/16</td>\n",
       "    </tr>\n",
       "    <tr>\n",
       "      <th>1</th>\n",
       "      <td>10000012</td>\n",
       "      <td>Pink Cab</td>\n",
       "      <td>ATLANTA GA</td>\n",
       "      <td>28.62</td>\n",
       "      <td>358.52</td>\n",
       "      <td>334.8540</td>\n",
       "      <td>06/01/16</td>\n",
       "    </tr>\n",
       "    <tr>\n",
       "      <th>2</th>\n",
       "      <td>10000013</td>\n",
       "      <td>Pink Cab</td>\n",
       "      <td>ATLANTA GA</td>\n",
       "      <td>9.04</td>\n",
       "      <td>125.20</td>\n",
       "      <td>97.6320</td>\n",
       "      <td>02/01/16</td>\n",
       "    </tr>\n",
       "    <tr>\n",
       "      <th>3</th>\n",
       "      <td>10000014</td>\n",
       "      <td>Pink Cab</td>\n",
       "      <td>ATLANTA GA</td>\n",
       "      <td>33.17</td>\n",
       "      <td>377.40</td>\n",
       "      <td>351.6020</td>\n",
       "      <td>07/01/16</td>\n",
       "    </tr>\n",
       "    <tr>\n",
       "      <th>4</th>\n",
       "      <td>10000015</td>\n",
       "      <td>Pink Cab</td>\n",
       "      <td>ATLANTA GA</td>\n",
       "      <td>8.73</td>\n",
       "      <td>114.62</td>\n",
       "      <td>97.7760</td>\n",
       "      <td>03/01/16</td>\n",
       "    </tr>\n",
       "    <tr>\n",
       "      <th>...</th>\n",
       "      <td>...</td>\n",
       "      <td>...</td>\n",
       "      <td>...</td>\n",
       "      <td>...</td>\n",
       "      <td>...</td>\n",
       "      <td>...</td>\n",
       "      <td>...</td>\n",
       "    </tr>\n",
       "    <tr>\n",
       "      <th>359387</th>\n",
       "      <td>10440101</td>\n",
       "      <td>Yellow Cab</td>\n",
       "      <td>WASHINGTON DC</td>\n",
       "      <td>4.80</td>\n",
       "      <td>69.24</td>\n",
       "      <td>63.3600</td>\n",
       "      <td>08/01/18</td>\n",
       "    </tr>\n",
       "    <tr>\n",
       "      <th>359388</th>\n",
       "      <td>10440104</td>\n",
       "      <td>Yellow Cab</td>\n",
       "      <td>WASHINGTON DC</td>\n",
       "      <td>8.40</td>\n",
       "      <td>113.75</td>\n",
       "      <td>106.8480</td>\n",
       "      <td>04/01/18</td>\n",
       "    </tr>\n",
       "    <tr>\n",
       "      <th>359389</th>\n",
       "      <td>10440105</td>\n",
       "      <td>Yellow Cab</td>\n",
       "      <td>WASHINGTON DC</td>\n",
       "      <td>27.75</td>\n",
       "      <td>437.07</td>\n",
       "      <td>349.6500</td>\n",
       "      <td>05/01/18</td>\n",
       "    </tr>\n",
       "    <tr>\n",
       "      <th>359390</th>\n",
       "      <td>10440106</td>\n",
       "      <td>Yellow Cab</td>\n",
       "      <td>WASHINGTON DC</td>\n",
       "      <td>8.80</td>\n",
       "      <td>146.19</td>\n",
       "      <td>114.0480</td>\n",
       "      <td>05/01/18</td>\n",
       "    </tr>\n",
       "    <tr>\n",
       "      <th>359391</th>\n",
       "      <td>10440107</td>\n",
       "      <td>Yellow Cab</td>\n",
       "      <td>WASHINGTON DC</td>\n",
       "      <td>12.76</td>\n",
       "      <td>191.58</td>\n",
       "      <td>177.6192</td>\n",
       "      <td>02/01/18</td>\n",
       "    </tr>\n",
       "  </tbody>\n",
       "</table>\n",
       "<p>359392 rows × 7 columns</p>\n",
       "</div>"
      ],
      "text/plain": [
       "        Transaction ID     Company           City  KM Travelled  \\\n",
       "0             10000011    Pink Cab     ATLANTA GA         30.45   \n",
       "1             10000012    Pink Cab     ATLANTA GA         28.62   \n",
       "2             10000013    Pink Cab     ATLANTA GA          9.04   \n",
       "3             10000014    Pink Cab     ATLANTA GA         33.17   \n",
       "4             10000015    Pink Cab     ATLANTA GA          8.73   \n",
       "...                ...         ...            ...           ...   \n",
       "359387        10440101  Yellow Cab  WASHINGTON DC          4.80   \n",
       "359388        10440104  Yellow Cab  WASHINGTON DC          8.40   \n",
       "359389        10440105  Yellow Cab  WASHINGTON DC         27.75   \n",
       "359390        10440106  Yellow Cab  WASHINGTON DC          8.80   \n",
       "359391        10440107  Yellow Cab  WASHINGTON DC         12.76   \n",
       "\n",
       "        Price Charged  Cost of Trip      Date  \n",
       "0              370.95      313.6350  08/01/16  \n",
       "1              358.52      334.8540  06/01/16  \n",
       "2              125.20       97.6320  02/01/16  \n",
       "3              377.40      351.6020  07/01/16  \n",
       "4              114.62       97.7760  03/01/16  \n",
       "...               ...           ...       ...  \n",
       "359387          69.24       63.3600  08/01/18  \n",
       "359388         113.75      106.8480  04/01/18  \n",
       "359389         437.07      349.6500  05/01/18  \n",
       "359390         146.19      114.0480  05/01/18  \n",
       "359391         191.58      177.6192  02/01/18  \n",
       "\n",
       "[359392 rows x 7 columns]"
      ]
     },
     "execution_count": 15,
     "metadata": {},
     "output_type": "execute_result"
    }
   ],
   "source": [
    "df_cab"
   ]
  },
  {
   "cell_type": "markdown",
   "id": "be9b0a92-2f24-4b97-b678-f1dc4837dd33",
   "metadata": {},
   "source": [
    "### Calculating the Profit and adding a seperate column for Profit which will be our Target"
   ]
  },
  {
   "cell_type": "code",
   "execution_count": 16,
   "id": "deed79ad",
   "metadata": {},
   "outputs": [
    {
     "data": {
      "text/html": [
       "<div>\n",
       "<style scoped>\n",
       "    .dataframe tbody tr th:only-of-type {\n",
       "        vertical-align: middle;\n",
       "    }\n",
       "\n",
       "    .dataframe tbody tr th {\n",
       "        vertical-align: top;\n",
       "    }\n",
       "\n",
       "    .dataframe thead th {\n",
       "        text-align: right;\n",
       "    }\n",
       "</style>\n",
       "<table border=\"1\" class=\"dataframe\">\n",
       "  <thead>\n",
       "    <tr style=\"text-align: right;\">\n",
       "      <th></th>\n",
       "      <th>Transaction ID</th>\n",
       "      <th>Company</th>\n",
       "      <th>City</th>\n",
       "      <th>KM Travelled</th>\n",
       "      <th>Price Charged</th>\n",
       "      <th>Cost of Trip</th>\n",
       "      <th>Date</th>\n",
       "      <th>Profit</th>\n",
       "    </tr>\n",
       "  </thead>\n",
       "  <tbody>\n",
       "    <tr>\n",
       "      <th>0</th>\n",
       "      <td>10000011</td>\n",
       "      <td>Pink Cab</td>\n",
       "      <td>ATLANTA GA</td>\n",
       "      <td>30.45</td>\n",
       "      <td>370.95</td>\n",
       "      <td>313.6350</td>\n",
       "      <td>08/01/16</td>\n",
       "      <td>57.3150</td>\n",
       "    </tr>\n",
       "    <tr>\n",
       "      <th>1</th>\n",
       "      <td>10000012</td>\n",
       "      <td>Pink Cab</td>\n",
       "      <td>ATLANTA GA</td>\n",
       "      <td>28.62</td>\n",
       "      <td>358.52</td>\n",
       "      <td>334.8540</td>\n",
       "      <td>06/01/16</td>\n",
       "      <td>23.6660</td>\n",
       "    </tr>\n",
       "    <tr>\n",
       "      <th>2</th>\n",
       "      <td>10000013</td>\n",
       "      <td>Pink Cab</td>\n",
       "      <td>ATLANTA GA</td>\n",
       "      <td>9.04</td>\n",
       "      <td>125.20</td>\n",
       "      <td>97.6320</td>\n",
       "      <td>02/01/16</td>\n",
       "      <td>27.5680</td>\n",
       "    </tr>\n",
       "    <tr>\n",
       "      <th>3</th>\n",
       "      <td>10000014</td>\n",
       "      <td>Pink Cab</td>\n",
       "      <td>ATLANTA GA</td>\n",
       "      <td>33.17</td>\n",
       "      <td>377.40</td>\n",
       "      <td>351.6020</td>\n",
       "      <td>07/01/16</td>\n",
       "      <td>25.7980</td>\n",
       "    </tr>\n",
       "    <tr>\n",
       "      <th>4</th>\n",
       "      <td>10000015</td>\n",
       "      <td>Pink Cab</td>\n",
       "      <td>ATLANTA GA</td>\n",
       "      <td>8.73</td>\n",
       "      <td>114.62</td>\n",
       "      <td>97.7760</td>\n",
       "      <td>03/01/16</td>\n",
       "      <td>16.8440</td>\n",
       "    </tr>\n",
       "    <tr>\n",
       "      <th>...</th>\n",
       "      <td>...</td>\n",
       "      <td>...</td>\n",
       "      <td>...</td>\n",
       "      <td>...</td>\n",
       "      <td>...</td>\n",
       "      <td>...</td>\n",
       "      <td>...</td>\n",
       "      <td>...</td>\n",
       "    </tr>\n",
       "    <tr>\n",
       "      <th>359387</th>\n",
       "      <td>10440101</td>\n",
       "      <td>Yellow Cab</td>\n",
       "      <td>WASHINGTON DC</td>\n",
       "      <td>4.80</td>\n",
       "      <td>69.24</td>\n",
       "      <td>63.3600</td>\n",
       "      <td>08/01/18</td>\n",
       "      <td>5.8800</td>\n",
       "    </tr>\n",
       "    <tr>\n",
       "      <th>359388</th>\n",
       "      <td>10440104</td>\n",
       "      <td>Yellow Cab</td>\n",
       "      <td>WASHINGTON DC</td>\n",
       "      <td>8.40</td>\n",
       "      <td>113.75</td>\n",
       "      <td>106.8480</td>\n",
       "      <td>04/01/18</td>\n",
       "      <td>6.9020</td>\n",
       "    </tr>\n",
       "    <tr>\n",
       "      <th>359389</th>\n",
       "      <td>10440105</td>\n",
       "      <td>Yellow Cab</td>\n",
       "      <td>WASHINGTON DC</td>\n",
       "      <td>27.75</td>\n",
       "      <td>437.07</td>\n",
       "      <td>349.6500</td>\n",
       "      <td>05/01/18</td>\n",
       "      <td>87.4200</td>\n",
       "    </tr>\n",
       "    <tr>\n",
       "      <th>359390</th>\n",
       "      <td>10440106</td>\n",
       "      <td>Yellow Cab</td>\n",
       "      <td>WASHINGTON DC</td>\n",
       "      <td>8.80</td>\n",
       "      <td>146.19</td>\n",
       "      <td>114.0480</td>\n",
       "      <td>05/01/18</td>\n",
       "      <td>32.1420</td>\n",
       "    </tr>\n",
       "    <tr>\n",
       "      <th>359391</th>\n",
       "      <td>10440107</td>\n",
       "      <td>Yellow Cab</td>\n",
       "      <td>WASHINGTON DC</td>\n",
       "      <td>12.76</td>\n",
       "      <td>191.58</td>\n",
       "      <td>177.6192</td>\n",
       "      <td>02/01/18</td>\n",
       "      <td>13.9608</td>\n",
       "    </tr>\n",
       "  </tbody>\n",
       "</table>\n",
       "<p>359392 rows × 8 columns</p>\n",
       "</div>"
      ],
      "text/plain": [
       "        Transaction ID     Company           City  KM Travelled  \\\n",
       "0             10000011    Pink Cab     ATLANTA GA         30.45   \n",
       "1             10000012    Pink Cab     ATLANTA GA         28.62   \n",
       "2             10000013    Pink Cab     ATLANTA GA          9.04   \n",
       "3             10000014    Pink Cab     ATLANTA GA         33.17   \n",
       "4             10000015    Pink Cab     ATLANTA GA          8.73   \n",
       "...                ...         ...            ...           ...   \n",
       "359387        10440101  Yellow Cab  WASHINGTON DC          4.80   \n",
       "359388        10440104  Yellow Cab  WASHINGTON DC          8.40   \n",
       "359389        10440105  Yellow Cab  WASHINGTON DC         27.75   \n",
       "359390        10440106  Yellow Cab  WASHINGTON DC          8.80   \n",
       "359391        10440107  Yellow Cab  WASHINGTON DC         12.76   \n",
       "\n",
       "        Price Charged  Cost of Trip      Date   Profit  \n",
       "0              370.95      313.6350  08/01/16  57.3150  \n",
       "1              358.52      334.8540  06/01/16  23.6660  \n",
       "2              125.20       97.6320  02/01/16  27.5680  \n",
       "3              377.40      351.6020  07/01/16  25.7980  \n",
       "4              114.62       97.7760  03/01/16  16.8440  \n",
       "...               ...           ...       ...      ...  \n",
       "359387          69.24       63.3600  08/01/18   5.8800  \n",
       "359388         113.75      106.8480  04/01/18   6.9020  \n",
       "359389         437.07      349.6500  05/01/18  87.4200  \n",
       "359390         146.19      114.0480  05/01/18  32.1420  \n",
       "359391         191.58      177.6192  02/01/18  13.9608  \n",
       "\n",
       "[359392 rows x 8 columns]"
      ]
     },
     "execution_count": 16,
     "metadata": {},
     "output_type": "execute_result"
    }
   ],
   "source": [
    "df_cab['Profit']=df_cab['Price Charged']-df_cab['Cost of Trip']\n",
    "df_cab"
   ]
  },
  {
   "cell_type": "markdown",
   "id": "b6265af8-6585-405d-b005-059b5246166b",
   "metadata": {},
   "source": [
    "### Tried to Sort the Profit Column to know if there are Losses. "
   ]
  },
  {
   "cell_type": "code",
   "execution_count": 17,
   "id": "a2a10763",
   "metadata": {},
   "outputs": [
    {
     "data": {
      "text/html": [
       "<div>\n",
       "<style scoped>\n",
       "    .dataframe tbody tr th:only-of-type {\n",
       "        vertical-align: middle;\n",
       "    }\n",
       "\n",
       "    .dataframe tbody tr th {\n",
       "        vertical-align: top;\n",
       "    }\n",
       "\n",
       "    .dataframe thead th {\n",
       "        text-align: right;\n",
       "    }\n",
       "</style>\n",
       "<table border=\"1\" class=\"dataframe\">\n",
       "  <thead>\n",
       "    <tr style=\"text-align: right;\">\n",
       "      <th></th>\n",
       "      <th>Transaction ID</th>\n",
       "      <th>Company</th>\n",
       "      <th>City</th>\n",
       "      <th>KM Travelled</th>\n",
       "      <th>Price Charged</th>\n",
       "      <th>Cost of Trip</th>\n",
       "      <th>Date</th>\n",
       "      <th>Profit</th>\n",
       "    </tr>\n",
       "  </thead>\n",
       "  <tbody>\n",
       "    <tr>\n",
       "      <th>118348</th>\n",
       "      <td>10145287</td>\n",
       "      <td>Pink Cab</td>\n",
       "      <td>DALLAS TX</td>\n",
       "      <td>44.80</td>\n",
       "      <td>317.54</td>\n",
       "      <td>537.6000</td>\n",
       "      <td>19/02/17</td>\n",
       "      <td>-220.0600</td>\n",
       "    </tr>\n",
       "    <tr>\n",
       "      <th>18954</th>\n",
       "      <td>10024048</td>\n",
       "      <td>Pink Cab</td>\n",
       "      <td>DALLAS TX</td>\n",
       "      <td>42.56</td>\n",
       "      <td>303.51</td>\n",
       "      <td>502.2080</td>\n",
       "      <td>13/04/16</td>\n",
       "      <td>-198.6980</td>\n",
       "    </tr>\n",
       "    <tr>\n",
       "      <th>54991</th>\n",
       "      <td>10069188</td>\n",
       "      <td>Yellow Cab</td>\n",
       "      <td>TUCSON AZ</td>\n",
       "      <td>44.07</td>\n",
       "      <td>415.37</td>\n",
       "      <td>592.3008</td>\n",
       "      <td>28/08/16</td>\n",
       "      <td>-176.9308</td>\n",
       "    </tr>\n",
       "    <tr>\n",
       "      <th>23384</th>\n",
       "      <td>10029696</td>\n",
       "      <td>Pink Cab</td>\n",
       "      <td>DALLAS TX</td>\n",
       "      <td>43.29</td>\n",
       "      <td>328.85</td>\n",
       "      <td>497.8350</td>\n",
       "      <td>04/05/16</td>\n",
       "      <td>-168.9850</td>\n",
       "    </tr>\n",
       "    <tr>\n",
       "      <th>115200</th>\n",
       "      <td>10141320</td>\n",
       "      <td>Pink Cab</td>\n",
       "      <td>DALLAS TX</td>\n",
       "      <td>48.00</td>\n",
       "      <td>354.36</td>\n",
       "      <td>518.4000</td>\n",
       "      <td>30/01/17</td>\n",
       "      <td>-164.0400</td>\n",
       "    </tr>\n",
       "    <tr>\n",
       "      <th>...</th>\n",
       "      <td>...</td>\n",
       "      <td>...</td>\n",
       "      <td>...</td>\n",
       "      <td>...</td>\n",
       "      <td>...</td>\n",
       "      <td>...</td>\n",
       "      <td>...</td>\n",
       "      <td>...</td>\n",
       "    </tr>\n",
       "    <tr>\n",
       "      <th>138732</th>\n",
       "      <td>10170703</td>\n",
       "      <td>Yellow Cab</td>\n",
       "      <td>NEW YORK NY</td>\n",
       "      <td>41.65</td>\n",
       "      <td>1918.14</td>\n",
       "      <td>509.7960</td>\n",
       "      <td>30/04/17</td>\n",
       "      <td>1408.3440</td>\n",
       "    </tr>\n",
       "    <tr>\n",
       "      <th>138548</th>\n",
       "      <td>10170519</td>\n",
       "      <td>Yellow Cab</td>\n",
       "      <td>NEW YORK NY</td>\n",
       "      <td>41.81</td>\n",
       "      <td>1981.05</td>\n",
       "      <td>556.9092</td>\n",
       "      <td>30/04/17</td>\n",
       "      <td>1424.1408</td>\n",
       "    </tr>\n",
       "    <tr>\n",
       "      <th>138766</th>\n",
       "      <td>10170737</td>\n",
       "      <td>Yellow Cab</td>\n",
       "      <td>NEW YORK NY</td>\n",
       "      <td>43.20</td>\n",
       "      <td>2013.95</td>\n",
       "      <td>580.6080</td>\n",
       "      <td>30/04/17</td>\n",
       "      <td>1433.3420</td>\n",
       "    </tr>\n",
       "    <tr>\n",
       "      <th>138669</th>\n",
       "      <td>10170640</td>\n",
       "      <td>Yellow Cab</td>\n",
       "      <td>NEW YORK NY</td>\n",
       "      <td>43.29</td>\n",
       "      <td>2016.70</td>\n",
       "      <td>571.4280</td>\n",
       "      <td>05/05/17</td>\n",
       "      <td>1445.2720</td>\n",
       "    </tr>\n",
       "    <tr>\n",
       "      <th>138644</th>\n",
       "      <td>10170615</td>\n",
       "      <td>Yellow Cab</td>\n",
       "      <td>NEW YORK NY</td>\n",
       "      <td>46.80</td>\n",
       "      <td>2048.03</td>\n",
       "      <td>584.0640</td>\n",
       "      <td>05/05/17</td>\n",
       "      <td>1463.9660</td>\n",
       "    </tr>\n",
       "  </tbody>\n",
       "</table>\n",
       "<p>359392 rows × 8 columns</p>\n",
       "</div>"
      ],
      "text/plain": [
       "        Transaction ID     Company         City  KM Travelled  Price Charged  \\\n",
       "118348        10145287    Pink Cab    DALLAS TX         44.80         317.54   \n",
       "18954         10024048    Pink Cab    DALLAS TX         42.56         303.51   \n",
       "54991         10069188  Yellow Cab    TUCSON AZ         44.07         415.37   \n",
       "23384         10029696    Pink Cab    DALLAS TX         43.29         328.85   \n",
       "115200        10141320    Pink Cab    DALLAS TX         48.00         354.36   \n",
       "...                ...         ...          ...           ...            ...   \n",
       "138732        10170703  Yellow Cab  NEW YORK NY         41.65        1918.14   \n",
       "138548        10170519  Yellow Cab  NEW YORK NY         41.81        1981.05   \n",
       "138766        10170737  Yellow Cab  NEW YORK NY         43.20        2013.95   \n",
       "138669        10170640  Yellow Cab  NEW YORK NY         43.29        2016.70   \n",
       "138644        10170615  Yellow Cab  NEW YORK NY         46.80        2048.03   \n",
       "\n",
       "        Cost of Trip      Date     Profit  \n",
       "118348      537.6000  19/02/17  -220.0600  \n",
       "18954       502.2080  13/04/16  -198.6980  \n",
       "54991       592.3008  28/08/16  -176.9308  \n",
       "23384       497.8350  04/05/16  -168.9850  \n",
       "115200      518.4000  30/01/17  -164.0400  \n",
       "...              ...       ...        ...  \n",
       "138732      509.7960  30/04/17  1408.3440  \n",
       "138548      556.9092  30/04/17  1424.1408  \n",
       "138766      580.6080  30/04/17  1433.3420  \n",
       "138669      571.4280  05/05/17  1445.2720  \n",
       "138644      584.0640  05/05/17  1463.9660  \n",
       "\n",
       "[359392 rows x 8 columns]"
      ]
     },
     "execution_count": 17,
     "metadata": {},
     "output_type": "execute_result"
    }
   ],
   "source": [
    "df_cab.sort_values(by=['Profit']) # in some trips there are loss (observation in profit column)"
   ]
  },
  {
   "cell_type": "markdown",
   "id": "5052e88f-9f88-413c-8f8c-82dbfde3349f",
   "metadata": {},
   "source": [
    "### Observed in some trips there are loss "
   ]
  },
  {
   "cell_type": "markdown",
   "id": "ca99f680-a0da-4928-adeb-77354b0c76cb",
   "metadata": {},
   "source": [
    "## Importing City.csv \n",
    "### - This file contains list of \n",
    "#### - US cities,\n",
    "#### - Population \n",
    "#### - Number of cab users"
   ]
  },
  {
   "cell_type": "code",
   "execution_count": 18,
   "id": "8d99cae4",
   "metadata": {},
   "outputs": [
    {
     "data": {
      "text/html": [
       "<div>\n",
       "<style scoped>\n",
       "    .dataframe tbody tr th:only-of-type {\n",
       "        vertical-align: middle;\n",
       "    }\n",
       "\n",
       "    .dataframe tbody tr th {\n",
       "        vertical-align: top;\n",
       "    }\n",
       "\n",
       "    .dataframe thead th {\n",
       "        text-align: right;\n",
       "    }\n",
       "</style>\n",
       "<table border=\"1\" class=\"dataframe\">\n",
       "  <thead>\n",
       "    <tr style=\"text-align: right;\">\n",
       "      <th></th>\n",
       "      <th>City</th>\n",
       "      <th>Population</th>\n",
       "      <th>Users</th>\n",
       "    </tr>\n",
       "  </thead>\n",
       "  <tbody>\n",
       "    <tr>\n",
       "      <th>0</th>\n",
       "      <td>NEW YORK NY</td>\n",
       "      <td>8,405,837</td>\n",
       "      <td>302,149</td>\n",
       "    </tr>\n",
       "    <tr>\n",
       "      <th>1</th>\n",
       "      <td>CHICAGO IL</td>\n",
       "      <td>1,955,130</td>\n",
       "      <td>164,468</td>\n",
       "    </tr>\n",
       "    <tr>\n",
       "      <th>2</th>\n",
       "      <td>LOS ANGELES CA</td>\n",
       "      <td>1,595,037</td>\n",
       "      <td>144,132</td>\n",
       "    </tr>\n",
       "    <tr>\n",
       "      <th>3</th>\n",
       "      <td>MIAMI FL</td>\n",
       "      <td>1,339,155</td>\n",
       "      <td>17,675</td>\n",
       "    </tr>\n",
       "    <tr>\n",
       "      <th>4</th>\n",
       "      <td>SILICON VALLEY</td>\n",
       "      <td>1,177,609</td>\n",
       "      <td>27,247</td>\n",
       "    </tr>\n",
       "  </tbody>\n",
       "</table>\n",
       "</div>"
      ],
      "text/plain": [
       "             City   Population      Users\n",
       "0     NEW YORK NY   8,405,837    302,149 \n",
       "1      CHICAGO IL   1,955,130    164,468 \n",
       "2  LOS ANGELES CA   1,595,037    144,132 \n",
       "3        MIAMI FL   1,339,155     17,675 \n",
       "4  SILICON VALLEY   1,177,609     27,247 "
      ]
     },
     "execution_count": 18,
     "metadata": {},
     "output_type": "execute_result"
    }
   ],
   "source": [
    "df_city = pd.read_csv(\"City.csv\")\n",
    "df_city.head()"
   ]
  },
  {
   "cell_type": "markdown",
   "id": "191f0dd1-0529-48af-91c5-69eae6d2be0a",
   "metadata": {},
   "source": [
    "### Info of City Dataset"
   ]
  },
  {
   "cell_type": "code",
   "execution_count": 19,
   "id": "3cf63df7-f737-43d0-9dc6-460ec6350019",
   "metadata": {},
   "outputs": [
    {
     "name": "stdout",
     "output_type": "stream",
     "text": [
      "<class 'pandas.core.frame.DataFrame'>\n",
      "RangeIndex: 20 entries, 0 to 19\n",
      "Data columns (total 3 columns):\n",
      " #   Column      Non-Null Count  Dtype \n",
      "---  ------      --------------  ----- \n",
      " 0   City        20 non-null     object\n",
      " 1   Population  20 non-null     object\n",
      " 2   Users       20 non-null     object\n",
      "dtypes: object(3)\n",
      "memory usage: 608.0+ bytes\n"
     ]
    }
   ],
   "source": [
    "df_city.info()"
   ]
  },
  {
   "cell_type": "markdown",
   "id": "bfcb5964-3ece-45d4-aa09-9bedb0ebbcc4",
   "metadata": {},
   "source": [
    "### Data Shape (Number of Columns and Rows) for City Dataset"
   ]
  },
  {
   "cell_type": "code",
   "execution_count": 20,
   "id": "fdcc57b2",
   "metadata": {},
   "outputs": [
    {
     "data": {
      "text/plain": [
       "(20, 3)"
      ]
     },
     "execution_count": 20,
     "metadata": {},
     "output_type": "execute_result"
    }
   ],
   "source": [
    "df_city.shape #  print the number of rows and columns of my DataFrame"
   ]
  },
  {
   "cell_type": "markdown",
   "id": "194e48b3-e37a-47a0-a0a4-47d78f58ddc2",
   "metadata": {},
   "source": [
    "### Viewing the first 5 rows of City Dataset"
   ]
  },
  {
   "cell_type": "code",
   "execution_count": 21,
   "id": "137c1048",
   "metadata": {},
   "outputs": [
    {
     "data": {
      "text/html": [
       "<div>\n",
       "<style scoped>\n",
       "    .dataframe tbody tr th:only-of-type {\n",
       "        vertical-align: middle;\n",
       "    }\n",
       "\n",
       "    .dataframe tbody tr th {\n",
       "        vertical-align: top;\n",
       "    }\n",
       "\n",
       "    .dataframe thead th {\n",
       "        text-align: right;\n",
       "    }\n",
       "</style>\n",
       "<table border=\"1\" class=\"dataframe\">\n",
       "  <thead>\n",
       "    <tr style=\"text-align: right;\">\n",
       "      <th></th>\n",
       "      <th>City</th>\n",
       "      <th>Population</th>\n",
       "      <th>Users</th>\n",
       "    </tr>\n",
       "  </thead>\n",
       "  <tbody>\n",
       "    <tr>\n",
       "      <th>0</th>\n",
       "      <td>NEW YORK NY</td>\n",
       "      <td>8,405,837</td>\n",
       "      <td>302,149</td>\n",
       "    </tr>\n",
       "    <tr>\n",
       "      <th>1</th>\n",
       "      <td>CHICAGO IL</td>\n",
       "      <td>1,955,130</td>\n",
       "      <td>164,468</td>\n",
       "    </tr>\n",
       "    <tr>\n",
       "      <th>2</th>\n",
       "      <td>LOS ANGELES CA</td>\n",
       "      <td>1,595,037</td>\n",
       "      <td>144,132</td>\n",
       "    </tr>\n",
       "    <tr>\n",
       "      <th>3</th>\n",
       "      <td>MIAMI FL</td>\n",
       "      <td>1,339,155</td>\n",
       "      <td>17,675</td>\n",
       "    </tr>\n",
       "    <tr>\n",
       "      <th>4</th>\n",
       "      <td>SILICON VALLEY</td>\n",
       "      <td>1,177,609</td>\n",
       "      <td>27,247</td>\n",
       "    </tr>\n",
       "  </tbody>\n",
       "</table>\n",
       "</div>"
      ],
      "text/plain": [
       "             City   Population      Users\n",
       "0     NEW YORK NY   8,405,837    302,149 \n",
       "1      CHICAGO IL   1,955,130    164,468 \n",
       "2  LOS ANGELES CA   1,595,037    144,132 \n",
       "3        MIAMI FL   1,339,155     17,675 \n",
       "4  SILICON VALLEY   1,177,609     27,247 "
      ]
     },
     "execution_count": 21,
     "metadata": {},
     "output_type": "execute_result"
    }
   ],
   "source": [
    "df_city.head(5) # The head() function is used to get the first n rows."
   ]
  },
  {
   "cell_type": "markdown",
   "id": "3e080d2d-a260-478b-9ebf-3ef7fc68bd1b",
   "metadata": {},
   "source": [
    "### Viewing the last 5 rows of City Dataset"
   ]
  },
  {
   "cell_type": "code",
   "execution_count": 22,
   "id": "4ce3e76e",
   "metadata": {},
   "outputs": [
    {
     "data": {
      "text/html": [
       "<div>\n",
       "<style scoped>\n",
       "    .dataframe tbody tr th:only-of-type {\n",
       "        vertical-align: middle;\n",
       "    }\n",
       "\n",
       "    .dataframe tbody tr th {\n",
       "        vertical-align: top;\n",
       "    }\n",
       "\n",
       "    .dataframe thead th {\n",
       "        text-align: right;\n",
       "    }\n",
       "</style>\n",
       "<table border=\"1\" class=\"dataframe\">\n",
       "  <thead>\n",
       "    <tr style=\"text-align: right;\">\n",
       "      <th></th>\n",
       "      <th>City</th>\n",
       "      <th>Population</th>\n",
       "      <th>Users</th>\n",
       "    </tr>\n",
       "  </thead>\n",
       "  <tbody>\n",
       "    <tr>\n",
       "      <th>15</th>\n",
       "      <td>SACRAMENTO CA</td>\n",
       "      <td>545,776</td>\n",
       "      <td>7,044</td>\n",
       "    </tr>\n",
       "    <tr>\n",
       "      <th>16</th>\n",
       "      <td>PITTSBURGH PA</td>\n",
       "      <td>542,085</td>\n",
       "      <td>3,643</td>\n",
       "    </tr>\n",
       "    <tr>\n",
       "      <th>17</th>\n",
       "      <td>WASHINGTON DC</td>\n",
       "      <td>418,859</td>\n",
       "      <td>127,001</td>\n",
       "    </tr>\n",
       "    <tr>\n",
       "      <th>18</th>\n",
       "      <td>NASHVILLE TN</td>\n",
       "      <td>327,225</td>\n",
       "      <td>9,270</td>\n",
       "    </tr>\n",
       "    <tr>\n",
       "      <th>19</th>\n",
       "      <td>BOSTON MA</td>\n",
       "      <td>248,968</td>\n",
       "      <td>80,021</td>\n",
       "    </tr>\n",
       "  </tbody>\n",
       "</table>\n",
       "</div>"
      ],
      "text/plain": [
       "             City Population      Users\n",
       "15  SACRAMENTO CA   545,776      7,044 \n",
       "16  PITTSBURGH PA   542,085      3,643 \n",
       "17  WASHINGTON DC   418,859    127,001 \n",
       "18   NASHVILLE TN   327,225      9,270 \n",
       "19      BOSTON MA   248,968     80,021 "
      ]
     },
     "execution_count": 22,
     "metadata": {},
     "output_type": "execute_result"
    }
   ],
   "source": [
    "df_city.tail(5) # The tail() function is used to get the last n rows."
   ]
  },
  {
   "cell_type": "markdown",
   "id": "dee05bd4-8fc4-40b1-9830-191c8445ef41",
   "metadata": {},
   "source": [
    "### Checking the Statistical Measure"
   ]
  },
  {
   "cell_type": "code",
   "execution_count": 23,
   "id": "79f7fbe5",
   "metadata": {},
   "outputs": [
    {
     "data": {
      "text/html": [
       "<div>\n",
       "<style scoped>\n",
       "    .dataframe tbody tr th:only-of-type {\n",
       "        vertical-align: middle;\n",
       "    }\n",
       "\n",
       "    .dataframe tbody tr th {\n",
       "        vertical-align: top;\n",
       "    }\n",
       "\n",
       "    .dataframe thead th {\n",
       "        text-align: right;\n",
       "    }\n",
       "</style>\n",
       "<table border=\"1\" class=\"dataframe\">\n",
       "  <thead>\n",
       "    <tr style=\"text-align: right;\">\n",
       "      <th></th>\n",
       "      <th>City</th>\n",
       "      <th>Population</th>\n",
       "      <th>Users</th>\n",
       "    </tr>\n",
       "  </thead>\n",
       "  <tbody>\n",
       "    <tr>\n",
       "      <th>count</th>\n",
       "      <td>20</td>\n",
       "      <td>20</td>\n",
       "      <td>20</td>\n",
       "    </tr>\n",
       "    <tr>\n",
       "      <th>unique</th>\n",
       "      <td>20</td>\n",
       "      <td>20</td>\n",
       "      <td>20</td>\n",
       "    </tr>\n",
       "    <tr>\n",
       "      <th>top</th>\n",
       "      <td>NEW YORK NY</td>\n",
       "      <td>8,405,837</td>\n",
       "      <td>302,149</td>\n",
       "    </tr>\n",
       "    <tr>\n",
       "      <th>freq</th>\n",
       "      <td>1</td>\n",
       "      <td>1</td>\n",
       "      <td>1</td>\n",
       "    </tr>\n",
       "  </tbody>\n",
       "</table>\n",
       "</div>"
      ],
      "text/plain": [
       "               City   Population      Users\n",
       "count            20           20         20\n",
       "unique           20           20         20\n",
       "top     NEW YORK NY   8,405,837    302,149 \n",
       "freq              1            1          1"
      ]
     },
     "execution_count": 23,
     "metadata": {},
     "output_type": "execute_result"
    }
   ],
   "source": [
    "df_city.describe() #The describe() method returns description of the data in the DataFrame"
   ]
  },
  {
   "cell_type": "markdown",
   "id": "f4b11648-fad8-4a0b-b830-0deea5bd53ab",
   "metadata": {},
   "source": [
    "### Checking if any Null values"
   ]
  },
  {
   "cell_type": "code",
   "execution_count": 24,
   "id": "e4032020",
   "metadata": {},
   "outputs": [
    {
     "data": {
      "text/plain": [
       "City          0\n",
       "Population    0\n",
       "Users         0\n",
       "dtype: int64"
      ]
     },
     "execution_count": 24,
     "metadata": {},
     "output_type": "execute_result"
    }
   ],
   "source": [
    "df_city.isnull().sum().sort_values(ascending=False) # prints the column with missing value."
   ]
  },
  {
   "cell_type": "markdown",
   "id": "539f2638-1ef0-44ab-9a44-de0d432a6d13",
   "metadata": {},
   "source": [
    "### Checking if any duplicates"
   ]
  },
  {
   "cell_type": "code",
   "execution_count": 25,
   "id": "e3b7c7e3",
   "metadata": {},
   "outputs": [
    {
     "data": {
      "text/plain": [
       "0"
      ]
     },
     "execution_count": 25,
     "metadata": {},
     "output_type": "execute_result"
    }
   ],
   "source": [
    "df_city.duplicated().sum()"
   ]
  },
  {
   "cell_type": "markdown",
   "id": "e414e17a-2551-459a-90ec-78b08cacb486",
   "metadata": {},
   "source": [
    "## Importing Customer_ID.csv\n",
    "### - This file contains list of\n",
    "### - Customer ID,\n",
    "### - Gender\n",
    "### - Age\n",
    "### - Income"
   ]
  },
  {
   "cell_type": "code",
   "execution_count": 26,
   "id": "76477e42",
   "metadata": {},
   "outputs": [
    {
     "data": {
      "text/html": [
       "<div>\n",
       "<style scoped>\n",
       "    .dataframe tbody tr th:only-of-type {\n",
       "        vertical-align: middle;\n",
       "    }\n",
       "\n",
       "    .dataframe tbody tr th {\n",
       "        vertical-align: top;\n",
       "    }\n",
       "\n",
       "    .dataframe thead th {\n",
       "        text-align: right;\n",
       "    }\n",
       "</style>\n",
       "<table border=\"1\" class=\"dataframe\">\n",
       "  <thead>\n",
       "    <tr style=\"text-align: right;\">\n",
       "      <th></th>\n",
       "      <th>Customer ID</th>\n",
       "      <th>Gender</th>\n",
       "      <th>Age</th>\n",
       "      <th>Income (USD/Month)</th>\n",
       "    </tr>\n",
       "  </thead>\n",
       "  <tbody>\n",
       "    <tr>\n",
       "      <th>0</th>\n",
       "      <td>29290</td>\n",
       "      <td>Male</td>\n",
       "      <td>28</td>\n",
       "      <td>10813</td>\n",
       "    </tr>\n",
       "    <tr>\n",
       "      <th>1</th>\n",
       "      <td>27703</td>\n",
       "      <td>Male</td>\n",
       "      <td>27</td>\n",
       "      <td>9237</td>\n",
       "    </tr>\n",
       "    <tr>\n",
       "      <th>2</th>\n",
       "      <td>28712</td>\n",
       "      <td>Male</td>\n",
       "      <td>53</td>\n",
       "      <td>11242</td>\n",
       "    </tr>\n",
       "    <tr>\n",
       "      <th>3</th>\n",
       "      <td>28020</td>\n",
       "      <td>Male</td>\n",
       "      <td>23</td>\n",
       "      <td>23327</td>\n",
       "    </tr>\n",
       "    <tr>\n",
       "      <th>4</th>\n",
       "      <td>27182</td>\n",
       "      <td>Male</td>\n",
       "      <td>33</td>\n",
       "      <td>8536</td>\n",
       "    </tr>\n",
       "  </tbody>\n",
       "</table>\n",
       "</div>"
      ],
      "text/plain": [
       "   Customer ID Gender  Age  Income (USD/Month)\n",
       "0        29290   Male   28               10813\n",
       "1        27703   Male   27                9237\n",
       "2        28712   Male   53               11242\n",
       "3        28020   Male   23               23327\n",
       "4        27182   Male   33                8536"
      ]
     },
     "execution_count": 26,
     "metadata": {},
     "output_type": "execute_result"
    }
   ],
   "source": [
    "df_customer = pd.read_csv(\"Customer_ID.csv\")\n",
    "df_customer.head()"
   ]
  },
  {
   "cell_type": "markdown",
   "id": "2ca7d93a-016f-4100-b570-d8d5a788ff4b",
   "metadata": {},
   "source": [
    "### Shape of the Data (the number of rows and columns)"
   ]
  },
  {
   "cell_type": "code",
   "execution_count": 27,
   "id": "39fb8bf7",
   "metadata": {},
   "outputs": [
    {
     "data": {
      "text/plain": [
       "(49171, 4)"
      ]
     },
     "execution_count": 27,
     "metadata": {},
     "output_type": "execute_result"
    }
   ],
   "source": [
    "df_customer.shape #  print the number of rows and columns of my DataFrame"
   ]
  },
  {
   "cell_type": "markdown",
   "id": "7e48d2f9-3428-4b4f-b3c0-d7b18a5f7aa2",
   "metadata": {},
   "source": [
    "### First 5 rows of Customer Data"
   ]
  },
  {
   "cell_type": "code",
   "execution_count": 28,
   "id": "f96b7cf5",
   "metadata": {},
   "outputs": [
    {
     "data": {
      "text/html": [
       "<div>\n",
       "<style scoped>\n",
       "    .dataframe tbody tr th:only-of-type {\n",
       "        vertical-align: middle;\n",
       "    }\n",
       "\n",
       "    .dataframe tbody tr th {\n",
       "        vertical-align: top;\n",
       "    }\n",
       "\n",
       "    .dataframe thead th {\n",
       "        text-align: right;\n",
       "    }\n",
       "</style>\n",
       "<table border=\"1\" class=\"dataframe\">\n",
       "  <thead>\n",
       "    <tr style=\"text-align: right;\">\n",
       "      <th></th>\n",
       "      <th>Customer ID</th>\n",
       "      <th>Gender</th>\n",
       "      <th>Age</th>\n",
       "      <th>Income (USD/Month)</th>\n",
       "    </tr>\n",
       "  </thead>\n",
       "  <tbody>\n",
       "    <tr>\n",
       "      <th>0</th>\n",
       "      <td>29290</td>\n",
       "      <td>Male</td>\n",
       "      <td>28</td>\n",
       "      <td>10813</td>\n",
       "    </tr>\n",
       "    <tr>\n",
       "      <th>1</th>\n",
       "      <td>27703</td>\n",
       "      <td>Male</td>\n",
       "      <td>27</td>\n",
       "      <td>9237</td>\n",
       "    </tr>\n",
       "    <tr>\n",
       "      <th>2</th>\n",
       "      <td>28712</td>\n",
       "      <td>Male</td>\n",
       "      <td>53</td>\n",
       "      <td>11242</td>\n",
       "    </tr>\n",
       "    <tr>\n",
       "      <th>3</th>\n",
       "      <td>28020</td>\n",
       "      <td>Male</td>\n",
       "      <td>23</td>\n",
       "      <td>23327</td>\n",
       "    </tr>\n",
       "    <tr>\n",
       "      <th>4</th>\n",
       "      <td>27182</td>\n",
       "      <td>Male</td>\n",
       "      <td>33</td>\n",
       "      <td>8536</td>\n",
       "    </tr>\n",
       "  </tbody>\n",
       "</table>\n",
       "</div>"
      ],
      "text/plain": [
       "   Customer ID Gender  Age  Income (USD/Month)\n",
       "0        29290   Male   28               10813\n",
       "1        27703   Male   27                9237\n",
       "2        28712   Male   53               11242\n",
       "3        28020   Male   23               23327\n",
       "4        27182   Male   33                8536"
      ]
     },
     "execution_count": 28,
     "metadata": {},
     "output_type": "execute_result"
    }
   ],
   "source": [
    "df_customer.head(5)"
   ]
  },
  {
   "cell_type": "markdown",
   "id": "3497d611-2860-46ab-91c1-65d2a455276f",
   "metadata": {},
   "source": [
    "### Checking Statistical Measure"
   ]
  },
  {
   "cell_type": "code",
   "execution_count": 29,
   "id": "b4e15497",
   "metadata": {},
   "outputs": [
    {
     "data": {
      "text/html": [
       "<div>\n",
       "<style scoped>\n",
       "    .dataframe tbody tr th:only-of-type {\n",
       "        vertical-align: middle;\n",
       "    }\n",
       "\n",
       "    .dataframe tbody tr th {\n",
       "        vertical-align: top;\n",
       "    }\n",
       "\n",
       "    .dataframe thead th {\n",
       "        text-align: right;\n",
       "    }\n",
       "</style>\n",
       "<table border=\"1\" class=\"dataframe\">\n",
       "  <thead>\n",
       "    <tr style=\"text-align: right;\">\n",
       "      <th></th>\n",
       "      <th>Customer ID</th>\n",
       "      <th>Age</th>\n",
       "      <th>Income (USD/Month)</th>\n",
       "    </tr>\n",
       "  </thead>\n",
       "  <tbody>\n",
       "    <tr>\n",
       "      <th>count</th>\n",
       "      <td>49171.000000</td>\n",
       "      <td>49171.000000</td>\n",
       "      <td>49171.000000</td>\n",
       "    </tr>\n",
       "    <tr>\n",
       "      <th>mean</th>\n",
       "      <td>28398.252283</td>\n",
       "      <td>35.363121</td>\n",
       "      <td>15015.631856</td>\n",
       "    </tr>\n",
       "    <tr>\n",
       "      <th>std</th>\n",
       "      <td>17714.137333</td>\n",
       "      <td>12.599066</td>\n",
       "      <td>8002.208253</td>\n",
       "    </tr>\n",
       "    <tr>\n",
       "      <th>min</th>\n",
       "      <td>1.000000</td>\n",
       "      <td>18.000000</td>\n",
       "      <td>2000.000000</td>\n",
       "    </tr>\n",
       "    <tr>\n",
       "      <th>25%</th>\n",
       "      <td>12654.500000</td>\n",
       "      <td>25.000000</td>\n",
       "      <td>8289.500000</td>\n",
       "    </tr>\n",
       "    <tr>\n",
       "      <th>50%</th>\n",
       "      <td>27631.000000</td>\n",
       "      <td>33.000000</td>\n",
       "      <td>14656.000000</td>\n",
       "    </tr>\n",
       "    <tr>\n",
       "      <th>75%</th>\n",
       "      <td>43284.500000</td>\n",
       "      <td>42.000000</td>\n",
       "      <td>21035.000000</td>\n",
       "    </tr>\n",
       "    <tr>\n",
       "      <th>max</th>\n",
       "      <td>60000.000000</td>\n",
       "      <td>65.000000</td>\n",
       "      <td>35000.000000</td>\n",
       "    </tr>\n",
       "  </tbody>\n",
       "</table>\n",
       "</div>"
      ],
      "text/plain": [
       "        Customer ID           Age  Income (USD/Month)\n",
       "count  49171.000000  49171.000000        49171.000000\n",
       "mean   28398.252283     35.363121        15015.631856\n",
       "std    17714.137333     12.599066         8002.208253\n",
       "min        1.000000     18.000000         2000.000000\n",
       "25%    12654.500000     25.000000         8289.500000\n",
       "50%    27631.000000     33.000000        14656.000000\n",
       "75%    43284.500000     42.000000        21035.000000\n",
       "max    60000.000000     65.000000        35000.000000"
      ]
     },
     "execution_count": 29,
     "metadata": {},
     "output_type": "execute_result"
    }
   ],
   "source": [
    "df_customer.describe()"
   ]
  },
  {
   "cell_type": "markdown",
   "id": "2d7de754-de7d-403f-8df6-c0bd028be396",
   "metadata": {},
   "source": [
    "### Checking for Null Values"
   ]
  },
  {
   "cell_type": "code",
   "execution_count": 30,
   "id": "768cd395",
   "metadata": {},
   "outputs": [
    {
     "data": {
      "text/plain": [
       "Customer ID           0\n",
       "Gender                0\n",
       "Age                   0\n",
       "Income (USD/Month)    0\n",
       "dtype: int64"
      ]
     },
     "execution_count": 30,
     "metadata": {},
     "output_type": "execute_result"
    }
   ],
   "source": [
    "df_customer.isnull().sum().sort_values(ascending=False)"
   ]
  },
  {
   "cell_type": "markdown",
   "id": "7a79a328-e93d-40d5-b928-a4ae39374429",
   "metadata": {},
   "source": [
    "### Checking for Duplicate values"
   ]
  },
  {
   "cell_type": "code",
   "execution_count": 31,
   "id": "91858fe7",
   "metadata": {},
   "outputs": [
    {
     "data": {
      "text/plain": [
       "0"
      ]
     },
     "execution_count": 31,
     "metadata": {},
     "output_type": "execute_result"
    }
   ],
   "source": [
    "df_city.duplicated().sum()"
   ]
  },
  {
   "cell_type": "markdown",
   "id": "0a1a0c34-39ec-4752-a571-ed668dda245a",
   "metadata": {},
   "source": [
    "## Importing Transaction_ID.csv\n",
    "### - This file contains list of\n",
    "### - Transaction ID\n",
    "### - Customer ID\n",
    "### - Payment_Mode\n"
   ]
  },
  {
   "cell_type": "code",
   "execution_count": 32,
   "id": "bc1fc094",
   "metadata": {},
   "outputs": [
    {
     "data": {
      "text/html": [
       "<div>\n",
       "<style scoped>\n",
       "    .dataframe tbody tr th:only-of-type {\n",
       "        vertical-align: middle;\n",
       "    }\n",
       "\n",
       "    .dataframe tbody tr th {\n",
       "        vertical-align: top;\n",
       "    }\n",
       "\n",
       "    .dataframe thead th {\n",
       "        text-align: right;\n",
       "    }\n",
       "</style>\n",
       "<table border=\"1\" class=\"dataframe\">\n",
       "  <thead>\n",
       "    <tr style=\"text-align: right;\">\n",
       "      <th></th>\n",
       "      <th>Transaction ID</th>\n",
       "      <th>Customer ID</th>\n",
       "      <th>Payment_Mode</th>\n",
       "    </tr>\n",
       "  </thead>\n",
       "  <tbody>\n",
       "    <tr>\n",
       "      <th>0</th>\n",
       "      <td>10000011</td>\n",
       "      <td>29290</td>\n",
       "      <td>Card</td>\n",
       "    </tr>\n",
       "    <tr>\n",
       "      <th>1</th>\n",
       "      <td>10000012</td>\n",
       "      <td>27703</td>\n",
       "      <td>Card</td>\n",
       "    </tr>\n",
       "    <tr>\n",
       "      <th>2</th>\n",
       "      <td>10000013</td>\n",
       "      <td>28712</td>\n",
       "      <td>Cash</td>\n",
       "    </tr>\n",
       "    <tr>\n",
       "      <th>3</th>\n",
       "      <td>10000014</td>\n",
       "      <td>28020</td>\n",
       "      <td>Cash</td>\n",
       "    </tr>\n",
       "    <tr>\n",
       "      <th>4</th>\n",
       "      <td>10000015</td>\n",
       "      <td>27182</td>\n",
       "      <td>Card</td>\n",
       "    </tr>\n",
       "  </tbody>\n",
       "</table>\n",
       "</div>"
      ],
      "text/plain": [
       "   Transaction ID  Customer ID Payment_Mode\n",
       "0        10000011        29290         Card\n",
       "1        10000012        27703         Card\n",
       "2        10000013        28712         Cash\n",
       "3        10000014        28020         Cash\n",
       "4        10000015        27182         Card"
      ]
     },
     "execution_count": 32,
     "metadata": {},
     "output_type": "execute_result"
    }
   ],
   "source": [
    "df_transaction = pd.read_csv(\"Transaction_ID.csv\")\n",
    "df_transaction.head()"
   ]
  },
  {
   "cell_type": "markdown",
   "id": "91eca00a-ceb8-4a72-ae3a-23415f10bd3d",
   "metadata": {},
   "source": [
    "### Shape of the Data (Number of rows and columns)"
   ]
  },
  {
   "cell_type": "code",
   "execution_count": 33,
   "id": "ec62cd9f",
   "metadata": {},
   "outputs": [
    {
     "data": {
      "text/plain": [
       "(440098, 3)"
      ]
     },
     "execution_count": 33,
     "metadata": {},
     "output_type": "execute_result"
    }
   ],
   "source": [
    "df_transaction.shape"
   ]
  },
  {
   "cell_type": "markdown",
   "id": "ef086089-4321-4759-98e9-d3ebf4b18ad4",
   "metadata": {},
   "source": [
    "### Checking Statistical Measure"
   ]
  },
  {
   "cell_type": "code",
   "execution_count": 34,
   "id": "81d104e9",
   "metadata": {},
   "outputs": [
    {
     "data": {
      "text/html": [
       "<div>\n",
       "<style scoped>\n",
       "    .dataframe tbody tr th:only-of-type {\n",
       "        vertical-align: middle;\n",
       "    }\n",
       "\n",
       "    .dataframe tbody tr th {\n",
       "        vertical-align: top;\n",
       "    }\n",
       "\n",
       "    .dataframe thead th {\n",
       "        text-align: right;\n",
       "    }\n",
       "</style>\n",
       "<table border=\"1\" class=\"dataframe\">\n",
       "  <thead>\n",
       "    <tr style=\"text-align: right;\">\n",
       "      <th></th>\n",
       "      <th>Transaction ID</th>\n",
       "      <th>Customer ID</th>\n",
       "    </tr>\n",
       "  </thead>\n",
       "  <tbody>\n",
       "    <tr>\n",
       "      <th>count</th>\n",
       "      <td>4.400980e+05</td>\n",
       "      <td>440098.000000</td>\n",
       "    </tr>\n",
       "    <tr>\n",
       "      <th>mean</th>\n",
       "      <td>1.022006e+07</td>\n",
       "      <td>23619.513120</td>\n",
       "    </tr>\n",
       "    <tr>\n",
       "      <th>std</th>\n",
       "      <td>1.270455e+05</td>\n",
       "      <td>21195.549816</td>\n",
       "    </tr>\n",
       "    <tr>\n",
       "      <th>min</th>\n",
       "      <td>1.000001e+07</td>\n",
       "      <td>1.000000</td>\n",
       "    </tr>\n",
       "    <tr>\n",
       "      <th>25%</th>\n",
       "      <td>1.011004e+07</td>\n",
       "      <td>3530.000000</td>\n",
       "    </tr>\n",
       "    <tr>\n",
       "      <th>50%</th>\n",
       "      <td>1.022006e+07</td>\n",
       "      <td>15168.000000</td>\n",
       "    </tr>\n",
       "    <tr>\n",
       "      <th>75%</th>\n",
       "      <td>1.033008e+07</td>\n",
       "      <td>43884.000000</td>\n",
       "    </tr>\n",
       "    <tr>\n",
       "      <th>max</th>\n",
       "      <td>1.044011e+07</td>\n",
       "      <td>60000.000000</td>\n",
       "    </tr>\n",
       "  </tbody>\n",
       "</table>\n",
       "</div>"
      ],
      "text/plain": [
       "       Transaction ID    Customer ID\n",
       "count    4.400980e+05  440098.000000\n",
       "mean     1.022006e+07   23619.513120\n",
       "std      1.270455e+05   21195.549816\n",
       "min      1.000001e+07       1.000000\n",
       "25%      1.011004e+07    3530.000000\n",
       "50%      1.022006e+07   15168.000000\n",
       "75%      1.033008e+07   43884.000000\n",
       "max      1.044011e+07   60000.000000"
      ]
     },
     "execution_count": 34,
     "metadata": {},
     "output_type": "execute_result"
    }
   ],
   "source": [
    "df_transaction.describe()"
   ]
  },
  {
   "cell_type": "markdown",
   "id": "542f4ba0-78f1-42f1-8d65-78d9218681c1",
   "metadata": {},
   "source": [
    "### Checking for Null Values"
   ]
  },
  {
   "cell_type": "code",
   "execution_count": 35,
   "id": "3ca0ebf3",
   "metadata": {},
   "outputs": [
    {
     "data": {
      "text/plain": [
       "Transaction ID    0\n",
       "Customer ID       0\n",
       "Payment_Mode      0\n",
       "dtype: int64"
      ]
     },
     "execution_count": 35,
     "metadata": {},
     "output_type": "execute_result"
    }
   ],
   "source": [
    "df_transaction.isnull().sum().sort_values(ascending=False)"
   ]
  },
  {
   "cell_type": "markdown",
   "id": "f2c88499-86e7-4b3c-a146-1ecb2c0df1db",
   "metadata": {},
   "source": [
    "### Checking for Duplicate Values"
   ]
  },
  {
   "cell_type": "code",
   "execution_count": 36,
   "id": "098cecb6",
   "metadata": {},
   "outputs": [
    {
     "data": {
      "text/plain": [
       "0"
      ]
     },
     "execution_count": 36,
     "metadata": {},
     "output_type": "execute_result"
    }
   ],
   "source": [
    "df_transaction.duplicated().sum()"
   ]
  },
  {
   "cell_type": "markdown",
   "id": "954a1d38-0fa6-4775-9c95-be86e3f521ca",
   "metadata": {},
   "source": [
    "## Merging Datasets "
   ]
  },
  {
   "cell_type": "code",
   "execution_count": 37,
   "id": "c25c39bc",
   "metadata": {},
   "outputs": [
    {
     "data": {
      "text/html": [
       "<div>\n",
       "<style scoped>\n",
       "    .dataframe tbody tr th:only-of-type {\n",
       "        vertical-align: middle;\n",
       "    }\n",
       "\n",
       "    .dataframe tbody tr th {\n",
       "        vertical-align: top;\n",
       "    }\n",
       "\n",
       "    .dataframe thead th {\n",
       "        text-align: right;\n",
       "    }\n",
       "</style>\n",
       "<table border=\"1\" class=\"dataframe\">\n",
       "  <thead>\n",
       "    <tr style=\"text-align: right;\">\n",
       "      <th></th>\n",
       "      <th>Transaction ID</th>\n",
       "      <th>Company</th>\n",
       "      <th>City</th>\n",
       "      <th>KM Travelled</th>\n",
       "      <th>Price Charged</th>\n",
       "      <th>Cost of Trip</th>\n",
       "      <th>Date</th>\n",
       "      <th>Profit</th>\n",
       "      <th>Customer ID</th>\n",
       "      <th>Payment_Mode</th>\n",
       "      <th>Gender</th>\n",
       "      <th>Age</th>\n",
       "      <th>Income (USD/Month)</th>\n",
       "      <th>Population</th>\n",
       "      <th>Users</th>\n",
       "    </tr>\n",
       "  </thead>\n",
       "  <tbody>\n",
       "    <tr>\n",
       "      <th>0</th>\n",
       "      <td>10000011</td>\n",
       "      <td>Pink Cab</td>\n",
       "      <td>ATLANTA GA</td>\n",
       "      <td>30.45</td>\n",
       "      <td>370.95</td>\n",
       "      <td>313.6350</td>\n",
       "      <td>08/01/16</td>\n",
       "      <td>57.3150</td>\n",
       "      <td>29290</td>\n",
       "      <td>Card</td>\n",
       "      <td>Male</td>\n",
       "      <td>28</td>\n",
       "      <td>10813</td>\n",
       "      <td>814,885</td>\n",
       "      <td>24,701</td>\n",
       "    </tr>\n",
       "    <tr>\n",
       "      <th>1</th>\n",
       "      <td>10351127</td>\n",
       "      <td>Yellow Cab</td>\n",
       "      <td>ATLANTA GA</td>\n",
       "      <td>26.19</td>\n",
       "      <td>598.70</td>\n",
       "      <td>317.4228</td>\n",
       "      <td>21/07/18</td>\n",
       "      <td>281.2772</td>\n",
       "      <td>29290</td>\n",
       "      <td>Cash</td>\n",
       "      <td>Male</td>\n",
       "      <td>28</td>\n",
       "      <td>10813</td>\n",
       "      <td>814,885</td>\n",
       "      <td>24,701</td>\n",
       "    </tr>\n",
       "    <tr>\n",
       "      <th>2</th>\n",
       "      <td>10412921</td>\n",
       "      <td>Yellow Cab</td>\n",
       "      <td>ATLANTA GA</td>\n",
       "      <td>42.55</td>\n",
       "      <td>792.05</td>\n",
       "      <td>597.4020</td>\n",
       "      <td>23/11/18</td>\n",
       "      <td>194.6480</td>\n",
       "      <td>29290</td>\n",
       "      <td>Card</td>\n",
       "      <td>Male</td>\n",
       "      <td>28</td>\n",
       "      <td>10813</td>\n",
       "      <td>814,885</td>\n",
       "      <td>24,701</td>\n",
       "    </tr>\n",
       "    <tr>\n",
       "      <th>3</th>\n",
       "      <td>10000012</td>\n",
       "      <td>Pink Cab</td>\n",
       "      <td>ATLANTA GA</td>\n",
       "      <td>28.62</td>\n",
       "      <td>358.52</td>\n",
       "      <td>334.8540</td>\n",
       "      <td>06/01/16</td>\n",
       "      <td>23.6660</td>\n",
       "      <td>27703</td>\n",
       "      <td>Card</td>\n",
       "      <td>Male</td>\n",
       "      <td>27</td>\n",
       "      <td>9237</td>\n",
       "      <td>814,885</td>\n",
       "      <td>24,701</td>\n",
       "    </tr>\n",
       "    <tr>\n",
       "      <th>4</th>\n",
       "      <td>10320494</td>\n",
       "      <td>Yellow Cab</td>\n",
       "      <td>ATLANTA GA</td>\n",
       "      <td>36.38</td>\n",
       "      <td>721.10</td>\n",
       "      <td>467.1192</td>\n",
       "      <td>21/04/18</td>\n",
       "      <td>253.9808</td>\n",
       "      <td>27703</td>\n",
       "      <td>Card</td>\n",
       "      <td>Male</td>\n",
       "      <td>27</td>\n",
       "      <td>9237</td>\n",
       "      <td>814,885</td>\n",
       "      <td>24,701</td>\n",
       "    </tr>\n",
       "    <tr>\n",
       "      <th>5</th>\n",
       "      <td>10324737</td>\n",
       "      <td>Yellow Cab</td>\n",
       "      <td>ATLANTA GA</td>\n",
       "      <td>6.18</td>\n",
       "      <td>138.40</td>\n",
       "      <td>87.5088</td>\n",
       "      <td>04/05/18</td>\n",
       "      <td>50.8912</td>\n",
       "      <td>27703</td>\n",
       "      <td>Cash</td>\n",
       "      <td>Male</td>\n",
       "      <td>27</td>\n",
       "      <td>9237</td>\n",
       "      <td>814,885</td>\n",
       "      <td>24,701</td>\n",
       "    </tr>\n",
       "    <tr>\n",
       "      <th>6</th>\n",
       "      <td>10395626</td>\n",
       "      <td>Pink Cab</td>\n",
       "      <td>ATLANTA GA</td>\n",
       "      <td>13.39</td>\n",
       "      <td>167.03</td>\n",
       "      <td>141.9340</td>\n",
       "      <td>27/10/18</td>\n",
       "      <td>25.0960</td>\n",
       "      <td>27703</td>\n",
       "      <td>Card</td>\n",
       "      <td>Male</td>\n",
       "      <td>27</td>\n",
       "      <td>9237</td>\n",
       "      <td>814,885</td>\n",
       "      <td>24,701</td>\n",
       "    </tr>\n",
       "    <tr>\n",
       "      <th>7</th>\n",
       "      <td>10000013</td>\n",
       "      <td>Pink Cab</td>\n",
       "      <td>ATLANTA GA</td>\n",
       "      <td>9.04</td>\n",
       "      <td>125.20</td>\n",
       "      <td>97.6320</td>\n",
       "      <td>02/01/16</td>\n",
       "      <td>27.5680</td>\n",
       "      <td>28712</td>\n",
       "      <td>Cash</td>\n",
       "      <td>Male</td>\n",
       "      <td>53</td>\n",
       "      <td>11242</td>\n",
       "      <td>814,885</td>\n",
       "      <td>24,701</td>\n",
       "    </tr>\n",
       "    <tr>\n",
       "      <th>8</th>\n",
       "      <td>10079404</td>\n",
       "      <td>Yellow Cab</td>\n",
       "      <td>ATLANTA GA</td>\n",
       "      <td>39.60</td>\n",
       "      <td>704.30</td>\n",
       "      <td>494.2080</td>\n",
       "      <td>21/09/16</td>\n",
       "      <td>210.0920</td>\n",
       "      <td>28712</td>\n",
       "      <td>Card</td>\n",
       "      <td>Male</td>\n",
       "      <td>53</td>\n",
       "      <td>11242</td>\n",
       "      <td>814,885</td>\n",
       "      <td>24,701</td>\n",
       "    </tr>\n",
       "    <tr>\n",
       "      <th>9</th>\n",
       "      <td>10186994</td>\n",
       "      <td>Yellow Cab</td>\n",
       "      <td>ATLANTA GA</td>\n",
       "      <td>18.19</td>\n",
       "      <td>365.63</td>\n",
       "      <td>246.6564</td>\n",
       "      <td>23/06/17</td>\n",
       "      <td>118.9736</td>\n",
       "      <td>28712</td>\n",
       "      <td>Card</td>\n",
       "      <td>Male</td>\n",
       "      <td>53</td>\n",
       "      <td>11242</td>\n",
       "      <td>814,885</td>\n",
       "      <td>24,701</td>\n",
       "    </tr>\n",
       "  </tbody>\n",
       "</table>\n",
       "</div>"
      ],
      "text/plain": [
       "   Transaction ID     Company        City  KM Travelled  Price Charged  \\\n",
       "0        10000011    Pink Cab  ATLANTA GA         30.45         370.95   \n",
       "1        10351127  Yellow Cab  ATLANTA GA         26.19         598.70   \n",
       "2        10412921  Yellow Cab  ATLANTA GA         42.55         792.05   \n",
       "3        10000012    Pink Cab  ATLANTA GA         28.62         358.52   \n",
       "4        10320494  Yellow Cab  ATLANTA GA         36.38         721.10   \n",
       "5        10324737  Yellow Cab  ATLANTA GA          6.18         138.40   \n",
       "6        10395626    Pink Cab  ATLANTA GA         13.39         167.03   \n",
       "7        10000013    Pink Cab  ATLANTA GA          9.04         125.20   \n",
       "8        10079404  Yellow Cab  ATLANTA GA         39.60         704.30   \n",
       "9        10186994  Yellow Cab  ATLANTA GA         18.19         365.63   \n",
       "\n",
       "   Cost of Trip      Date    Profit  Customer ID Payment_Mode Gender  Age  \\\n",
       "0      313.6350  08/01/16   57.3150        29290         Card   Male   28   \n",
       "1      317.4228  21/07/18  281.2772        29290         Cash   Male   28   \n",
       "2      597.4020  23/11/18  194.6480        29290         Card   Male   28   \n",
       "3      334.8540  06/01/16   23.6660        27703         Card   Male   27   \n",
       "4      467.1192  21/04/18  253.9808        27703         Card   Male   27   \n",
       "5       87.5088  04/05/18   50.8912        27703         Cash   Male   27   \n",
       "6      141.9340  27/10/18   25.0960        27703         Card   Male   27   \n",
       "7       97.6320  02/01/16   27.5680        28712         Cash   Male   53   \n",
       "8      494.2080  21/09/16  210.0920        28712         Card   Male   53   \n",
       "9      246.6564  23/06/17  118.9736        28712         Card   Male   53   \n",
       "\n",
       "   Income (USD/Month) Population     Users  \n",
       "0               10813   814,885    24,701   \n",
       "1               10813   814,885    24,701   \n",
       "2               10813   814,885    24,701   \n",
       "3                9237   814,885    24,701   \n",
       "4                9237   814,885    24,701   \n",
       "5                9237   814,885    24,701   \n",
       "6                9237   814,885    24,701   \n",
       "7               11242   814,885    24,701   \n",
       "8               11242   814,885    24,701   \n",
       "9               11242   814,885    24,701   "
      ]
     },
     "execution_count": 37,
     "metadata": {},
     "output_type": "execute_result"
    }
   ],
   "source": [
    "df= df_cab.merge(df_transaction, on= 'Transaction ID').merge(df_customer, on ='Customer ID').merge(df_city, on = 'City')\n",
    "df.head(10)"
   ]
  },
  {
   "cell_type": "markdown",
   "id": "2ebfcf8a-9cbd-4b28-86f8-0188f5395c40",
   "metadata": {},
   "source": [
    "### Checking Info"
   ]
  },
  {
   "cell_type": "code",
   "execution_count": 38,
   "id": "068ad76e",
   "metadata": {},
   "outputs": [
    {
     "name": "stdout",
     "output_type": "stream",
     "text": [
      "<class 'pandas.core.frame.DataFrame'>\n",
      "Int64Index: 359392 entries, 0 to 359391\n",
      "Data columns (total 15 columns):\n",
      " #   Column              Non-Null Count   Dtype  \n",
      "---  ------              --------------   -----  \n",
      " 0   Transaction ID      359392 non-null  int64  \n",
      " 1   Company             359392 non-null  object \n",
      " 2   City                359392 non-null  object \n",
      " 3   KM Travelled        359392 non-null  float64\n",
      " 4   Price Charged       359392 non-null  float64\n",
      " 5   Cost of Trip        359392 non-null  float64\n",
      " 6   Date                359392 non-null  object \n",
      " 7   Profit              359392 non-null  float64\n",
      " 8   Customer ID         359392 non-null  int64  \n",
      " 9   Payment_Mode        359392 non-null  object \n",
      " 10  Gender              359392 non-null  object \n",
      " 11  Age                 359392 non-null  int64  \n",
      " 12  Income (USD/Month)  359392 non-null  int64  \n",
      " 13  Population          359392 non-null  object \n",
      " 14  Users               359392 non-null  object \n",
      "dtypes: float64(4), int64(4), object(7)\n",
      "memory usage: 43.9+ MB\n"
     ]
    }
   ],
   "source": [
    "df.info()"
   ]
  },
  {
   "cell_type": "markdown",
   "id": "3b85cc8c-9796-4f04-acd9-09cd44dd3be1",
   "metadata": {},
   "source": [
    "### Checking Statistical Measure"
   ]
  },
  {
   "cell_type": "code",
   "execution_count": 39,
   "id": "facb81f6",
   "metadata": {},
   "outputs": [
    {
     "data": {
      "text/html": [
       "<div>\n",
       "<style scoped>\n",
       "    .dataframe tbody tr th:only-of-type {\n",
       "        vertical-align: middle;\n",
       "    }\n",
       "\n",
       "    .dataframe tbody tr th {\n",
       "        vertical-align: top;\n",
       "    }\n",
       "\n",
       "    .dataframe thead th {\n",
       "        text-align: right;\n",
       "    }\n",
       "</style>\n",
       "<table border=\"1\" class=\"dataframe\">\n",
       "  <thead>\n",
       "    <tr style=\"text-align: right;\">\n",
       "      <th></th>\n",
       "      <th>Transaction ID</th>\n",
       "      <th>KM Travelled</th>\n",
       "      <th>Price Charged</th>\n",
       "      <th>Cost of Trip</th>\n",
       "      <th>Profit</th>\n",
       "      <th>Customer ID</th>\n",
       "      <th>Age</th>\n",
       "      <th>Income (USD/Month)</th>\n",
       "    </tr>\n",
       "  </thead>\n",
       "  <tbody>\n",
       "    <tr>\n",
       "      <th>count</th>\n",
       "      <td>3.593920e+05</td>\n",
       "      <td>359392.000000</td>\n",
       "      <td>359392.000000</td>\n",
       "      <td>359392.000000</td>\n",
       "      <td>359392.000000</td>\n",
       "      <td>359392.000000</td>\n",
       "      <td>359392.000000</td>\n",
       "      <td>359392.000000</td>\n",
       "    </tr>\n",
       "    <tr>\n",
       "      <th>mean</th>\n",
       "      <td>1.022076e+07</td>\n",
       "      <td>22.567254</td>\n",
       "      <td>423.443311</td>\n",
       "      <td>286.190113</td>\n",
       "      <td>137.253198</td>\n",
       "      <td>19191.652115</td>\n",
       "      <td>35.336705</td>\n",
       "      <td>15048.822937</td>\n",
       "    </tr>\n",
       "    <tr>\n",
       "      <th>std</th>\n",
       "      <td>1.268058e+05</td>\n",
       "      <td>12.233526</td>\n",
       "      <td>274.378911</td>\n",
       "      <td>157.993661</td>\n",
       "      <td>160.311840</td>\n",
       "      <td>21012.412463</td>\n",
       "      <td>12.594234</td>\n",
       "      <td>7969.409482</td>\n",
       "    </tr>\n",
       "    <tr>\n",
       "      <th>min</th>\n",
       "      <td>1.000001e+07</td>\n",
       "      <td>1.900000</td>\n",
       "      <td>15.600000</td>\n",
       "      <td>19.000000</td>\n",
       "      <td>-220.060000</td>\n",
       "      <td>1.000000</td>\n",
       "      <td>18.000000</td>\n",
       "      <td>2000.000000</td>\n",
       "    </tr>\n",
       "    <tr>\n",
       "      <th>25%</th>\n",
       "      <td>1.011081e+07</td>\n",
       "      <td>12.000000</td>\n",
       "      <td>206.437500</td>\n",
       "      <td>151.200000</td>\n",
       "      <td>28.012000</td>\n",
       "      <td>2705.000000</td>\n",
       "      <td>25.000000</td>\n",
       "      <td>8424.000000</td>\n",
       "    </tr>\n",
       "    <tr>\n",
       "      <th>50%</th>\n",
       "      <td>1.022104e+07</td>\n",
       "      <td>22.440000</td>\n",
       "      <td>386.360000</td>\n",
       "      <td>282.480000</td>\n",
       "      <td>81.962000</td>\n",
       "      <td>7459.000000</td>\n",
       "      <td>33.000000</td>\n",
       "      <td>14685.000000</td>\n",
       "    </tr>\n",
       "    <tr>\n",
       "      <th>75%</th>\n",
       "      <td>1.033094e+07</td>\n",
       "      <td>32.960000</td>\n",
       "      <td>583.660000</td>\n",
       "      <td>413.683200</td>\n",
       "      <td>190.030000</td>\n",
       "      <td>36078.000000</td>\n",
       "      <td>42.000000</td>\n",
       "      <td>21035.000000</td>\n",
       "    </tr>\n",
       "    <tr>\n",
       "      <th>max</th>\n",
       "      <td>1.044011e+07</td>\n",
       "      <td>48.000000</td>\n",
       "      <td>2048.030000</td>\n",
       "      <td>691.200000</td>\n",
       "      <td>1463.966000</td>\n",
       "      <td>60000.000000</td>\n",
       "      <td>65.000000</td>\n",
       "      <td>35000.000000</td>\n",
       "    </tr>\n",
       "  </tbody>\n",
       "</table>\n",
       "</div>"
      ],
      "text/plain": [
       "       Transaction ID   KM Travelled  Price Charged   Cost of Trip  \\\n",
       "count    3.593920e+05  359392.000000  359392.000000  359392.000000   \n",
       "mean     1.022076e+07      22.567254     423.443311     286.190113   \n",
       "std      1.268058e+05      12.233526     274.378911     157.993661   \n",
       "min      1.000001e+07       1.900000      15.600000      19.000000   \n",
       "25%      1.011081e+07      12.000000     206.437500     151.200000   \n",
       "50%      1.022104e+07      22.440000     386.360000     282.480000   \n",
       "75%      1.033094e+07      32.960000     583.660000     413.683200   \n",
       "max      1.044011e+07      48.000000    2048.030000     691.200000   \n",
       "\n",
       "              Profit    Customer ID            Age  Income (USD/Month)  \n",
       "count  359392.000000  359392.000000  359392.000000       359392.000000  \n",
       "mean      137.253198   19191.652115      35.336705        15048.822937  \n",
       "std       160.311840   21012.412463      12.594234         7969.409482  \n",
       "min      -220.060000       1.000000      18.000000         2000.000000  \n",
       "25%        28.012000    2705.000000      25.000000         8424.000000  \n",
       "50%        81.962000    7459.000000      33.000000        14685.000000  \n",
       "75%       190.030000   36078.000000      42.000000        21035.000000  \n",
       "max      1463.966000   60000.000000      65.000000        35000.000000  "
      ]
     },
     "execution_count": 39,
     "metadata": {},
     "output_type": "execute_result"
    }
   ],
   "source": [
    "df.describe()"
   ]
  },
  {
   "cell_type": "markdown",
   "id": "136ab1ae-c490-429a-b543-7d8d3afa3bcb",
   "metadata": {},
   "source": [
    "### Visualizing the Companies Count"
   ]
  },
  {
   "cell_type": "code",
   "execution_count": 40,
   "id": "d792421a",
   "metadata": {},
   "outputs": [
    {
     "data": {
      "image/png": "[encoded data removed]",
      "text/plain": [
       "<Figure size 720x360 with 1 Axes>"
      ]
     },
     "metadata": {},
     "output_type": "display_data"
    }
   ],
   "source": [
    "plt.figure(figsize=(10,5))\n",
    "Companies = sns.countplot(x=\"Company\", palette=['Pink', 'Yellow'], data=df_cab)\n",
    "plt.title(\"Companies\")\n",
    "plt.show()"
   ]
  },
  {
   "cell_type": "markdown",
   "id": "860c3b44-5eb9-43bb-81b0-108c13904518",
   "metadata": {},
   "source": [
    "### Confirmation check for Null Values"
   ]
  },
  {
   "cell_type": "code",
   "execution_count": 41,
   "id": "4832779f",
   "metadata": {},
   "outputs": [
    {
     "data": {
      "text/plain": [
       "Transaction ID        0\n",
       "Company               0\n",
       "City                  0\n",
       "KM Travelled          0\n",
       "Price Charged         0\n",
       "Cost of Trip          0\n",
       "Date                  0\n",
       "Profit                0\n",
       "Customer ID           0\n",
       "Payment_Mode          0\n",
       "Gender                0\n",
       "Age                   0\n",
       "Income (USD/Month)    0\n",
       "Population            0\n",
       "Users                 0\n",
       "dtype: int64"
      ]
     },
     "execution_count": 41,
     "metadata": {},
     "output_type": "execute_result"
    }
   ],
   "source": [
    "df.isnull().sum().sort_values(ascending=False)"
   ]
  },
  {
   "cell_type": "markdown",
   "id": "05220a46-940b-43f3-9363-9e6e341bf54c",
   "metadata": {},
   "source": [
    "### Checking relationship between variables"
   ]
  },
  {
   "cell_type": "code",
   "execution_count": 42,
   "id": "acc693c4",
   "metadata": {},
   "outputs": [
    {
     "data": {
      "text/html": [
       "<div>\n",
       "<style scoped>\n",
       "    .dataframe tbody tr th:only-of-type {\n",
       "        vertical-align: middle;\n",
       "    }\n",
       "\n",
       "    .dataframe tbody tr th {\n",
       "        vertical-align: top;\n",
       "    }\n",
       "\n",
       "    .dataframe thead th {\n",
       "        text-align: right;\n",
       "    }\n",
       "</style>\n",
       "<table border=\"1\" class=\"dataframe\">\n",
       "  <thead>\n",
       "    <tr style=\"text-align: right;\">\n",
       "      <th></th>\n",
       "      <th>Transaction ID</th>\n",
       "      <th>KM Travelled</th>\n",
       "      <th>Price Charged</th>\n",
       "      <th>Cost of Trip</th>\n",
       "      <th>Profit</th>\n",
       "      <th>Customer ID</th>\n",
       "      <th>Age</th>\n",
       "      <th>Income (USD/Month)</th>\n",
       "    </tr>\n",
       "  </thead>\n",
       "  <tbody>\n",
       "    <tr>\n",
       "      <th>Transaction ID</th>\n",
       "      <td>1.000000</td>\n",
       "      <td>-0.001429</td>\n",
       "      <td>-0.052902</td>\n",
       "      <td>-0.003462</td>\n",
       "      <td>-0.087130</td>\n",
       "      <td>-0.016912</td>\n",
       "      <td>-0.001267</td>\n",
       "      <td>-0.001570</td>\n",
       "    </tr>\n",
       "    <tr>\n",
       "      <th>KM Travelled</th>\n",
       "      <td>-0.001429</td>\n",
       "      <td>1.000000</td>\n",
       "      <td>0.835753</td>\n",
       "      <td>0.981848</td>\n",
       "      <td>0.462768</td>\n",
       "      <td>0.000389</td>\n",
       "      <td>-0.000369</td>\n",
       "      <td>-0.000544</td>\n",
       "    </tr>\n",
       "    <tr>\n",
       "      <th>Price Charged</th>\n",
       "      <td>-0.052902</td>\n",
       "      <td>0.835753</td>\n",
       "      <td>1.000000</td>\n",
       "      <td>0.859812</td>\n",
       "      <td>0.864154</td>\n",
       "      <td>-0.177324</td>\n",
       "      <td>-0.003084</td>\n",
       "      <td>0.003228</td>\n",
       "    </tr>\n",
       "    <tr>\n",
       "      <th>Cost of Trip</th>\n",
       "      <td>-0.003462</td>\n",
       "      <td>0.981848</td>\n",
       "      <td>0.859812</td>\n",
       "      <td>1.000000</td>\n",
       "      <td>0.486056</td>\n",
       "      <td>0.003077</td>\n",
       "      <td>-0.000189</td>\n",
       "      <td>-0.000633</td>\n",
       "    </tr>\n",
       "    <tr>\n",
       "      <th>Profit</th>\n",
       "      <td>-0.087130</td>\n",
       "      <td>0.462768</td>\n",
       "      <td>0.864154</td>\n",
       "      <td>0.486056</td>\n",
       "      <td>1.000000</td>\n",
       "      <td>-0.306527</td>\n",
       "      <td>-0.005093</td>\n",
       "      <td>0.006148</td>\n",
       "    </tr>\n",
       "    <tr>\n",
       "      <th>Customer ID</th>\n",
       "      <td>-0.016912</td>\n",
       "      <td>0.000389</td>\n",
       "      <td>-0.177324</td>\n",
       "      <td>0.003077</td>\n",
       "      <td>-0.306527</td>\n",
       "      <td>1.000000</td>\n",
       "      <td>-0.004735</td>\n",
       "      <td>-0.013608</td>\n",
       "    </tr>\n",
       "    <tr>\n",
       "      <th>Age</th>\n",
       "      <td>-0.001267</td>\n",
       "      <td>-0.000369</td>\n",
       "      <td>-0.003084</td>\n",
       "      <td>-0.000189</td>\n",
       "      <td>-0.005093</td>\n",
       "      <td>-0.004735</td>\n",
       "      <td>1.000000</td>\n",
       "      <td>0.003907</td>\n",
       "    </tr>\n",
       "    <tr>\n",
       "      <th>Income (USD/Month)</th>\n",
       "      <td>-0.001570</td>\n",
       "      <td>-0.000544</td>\n",
       "      <td>0.003228</td>\n",
       "      <td>-0.000633</td>\n",
       "      <td>0.006148</td>\n",
       "      <td>-0.013608</td>\n",
       "      <td>0.003907</td>\n",
       "      <td>1.000000</td>\n",
       "    </tr>\n",
       "  </tbody>\n",
       "</table>\n",
       "</div>"
      ],
      "text/plain": [
       "                    Transaction ID  KM Travelled  Price Charged  Cost of Trip  \\\n",
       "Transaction ID            1.000000     -0.001429      -0.052902     -0.003462   \n",
       "KM Travelled             -0.001429      1.000000       0.835753      0.981848   \n",
       "Price Charged            -0.052902      0.835753       1.000000      0.859812   \n",
       "Cost of Trip             -0.003462      0.981848       0.859812      1.000000   \n",
       "Profit                   -0.087130      0.462768       0.864154      0.486056   \n",
       "Customer ID              -0.016912      0.000389      -0.177324      0.003077   \n",
       "Age                      -0.001267     -0.000369      -0.003084     -0.000189   \n",
       "Income (USD/Month)       -0.001570     -0.000544       0.003228     -0.000633   \n",
       "\n",
       "                      Profit  Customer ID       Age  Income (USD/Month)  \n",
       "Transaction ID     -0.087130    -0.016912 -0.001267           -0.001570  \n",
       "KM Travelled        0.462768     0.000389 -0.000369           -0.000544  \n",
       "Price Charged       0.864154    -0.177324 -0.003084            0.003228  \n",
       "Cost of Trip        0.486056     0.003077 -0.000189           -0.000633  \n",
       "Profit              1.000000    -0.306527 -0.005093            0.006148  \n",
       "Customer ID        -0.306527     1.000000 -0.004735           -0.013608  \n",
       "Age                -0.005093    -0.004735  1.000000            0.003907  \n",
       "Income (USD/Month)  0.006148    -0.013608  0.003907            1.000000  "
      ]
     },
     "execution_count": 42,
     "metadata": {},
     "output_type": "execute_result"
    }
   ],
   "source": [
    "cor=df.corr()\n",
    "cor"
   ]
  },
  {
   "cell_type": "markdown",
   "id": "94b804fe-6aea-4d82-ba24-e8588067a3d5",
   "metadata": {},
   "source": [
    "### We will change Age to Class format"
   ]
  },
  {
   "cell_type": "code",
   "execution_count": 43,
   "id": "28972fd0",
   "metadata": {},
   "outputs": [
    {
     "data": {
      "text/html": [
       "<div>\n",
       "<style scoped>\n",
       "    .dataframe tbody tr th:only-of-type {\n",
       "        vertical-align: middle;\n",
       "    }\n",
       "\n",
       "    .dataframe tbody tr th {\n",
       "        vertical-align: top;\n",
       "    }\n",
       "\n",
       "    .dataframe thead th {\n",
       "        text-align: right;\n",
       "    }\n",
       "</style>\n",
       "<table border=\"1\" class=\"dataframe\">\n",
       "  <thead>\n",
       "    <tr style=\"text-align: right;\">\n",
       "      <th></th>\n",
       "      <th>Transaction ID</th>\n",
       "      <th>Company</th>\n",
       "      <th>City</th>\n",
       "      <th>KM Travelled</th>\n",
       "      <th>Price Charged</th>\n",
       "      <th>Cost of Trip</th>\n",
       "      <th>Date</th>\n",
       "      <th>Profit</th>\n",
       "      <th>Customer ID</th>\n",
       "      <th>Payment_Mode</th>\n",
       "      <th>Gender</th>\n",
       "      <th>Age</th>\n",
       "      <th>Income (USD/Month)</th>\n",
       "      <th>Population</th>\n",
       "      <th>Users</th>\n",
       "      <th>Age group</th>\n",
       "    </tr>\n",
       "  </thead>\n",
       "  <tbody>\n",
       "    <tr>\n",
       "      <th>0</th>\n",
       "      <td>10000011</td>\n",
       "      <td>Pink Cab</td>\n",
       "      <td>ATLANTA GA</td>\n",
       "      <td>30.45</td>\n",
       "      <td>370.95</td>\n",
       "      <td>313.6350</td>\n",
       "      <td>08/01/16</td>\n",
       "      <td>57.3150</td>\n",
       "      <td>29290</td>\n",
       "      <td>Card</td>\n",
       "      <td>Male</td>\n",
       "      <td>28</td>\n",
       "      <td>10813</td>\n",
       "      <td>814,885</td>\n",
       "      <td>24,701</td>\n",
       "      <td>20 - 29</td>\n",
       "    </tr>\n",
       "    <tr>\n",
       "      <th>1</th>\n",
       "      <td>10351127</td>\n",
       "      <td>Yellow Cab</td>\n",
       "      <td>ATLANTA GA</td>\n",
       "      <td>26.19</td>\n",
       "      <td>598.70</td>\n",
       "      <td>317.4228</td>\n",
       "      <td>21/07/18</td>\n",
       "      <td>281.2772</td>\n",
       "      <td>29290</td>\n",
       "      <td>Cash</td>\n",
       "      <td>Male</td>\n",
       "      <td>28</td>\n",
       "      <td>10813</td>\n",
       "      <td>814,885</td>\n",
       "      <td>24,701</td>\n",
       "      <td>20 - 29</td>\n",
       "    </tr>\n",
       "    <tr>\n",
       "      <th>2</th>\n",
       "      <td>10412921</td>\n",
       "      <td>Yellow Cab</td>\n",
       "      <td>ATLANTA GA</td>\n",
       "      <td>42.55</td>\n",
       "      <td>792.05</td>\n",
       "      <td>597.4020</td>\n",
       "      <td>23/11/18</td>\n",
       "      <td>194.6480</td>\n",
       "      <td>29290</td>\n",
       "      <td>Card</td>\n",
       "      <td>Male</td>\n",
       "      <td>28</td>\n",
       "      <td>10813</td>\n",
       "      <td>814,885</td>\n",
       "      <td>24,701</td>\n",
       "      <td>20 - 29</td>\n",
       "    </tr>\n",
       "    <tr>\n",
       "      <th>3</th>\n",
       "      <td>10000012</td>\n",
       "      <td>Pink Cab</td>\n",
       "      <td>ATLANTA GA</td>\n",
       "      <td>28.62</td>\n",
       "      <td>358.52</td>\n",
       "      <td>334.8540</td>\n",
       "      <td>06/01/16</td>\n",
       "      <td>23.6660</td>\n",
       "      <td>27703</td>\n",
       "      <td>Card</td>\n",
       "      <td>Male</td>\n",
       "      <td>27</td>\n",
       "      <td>9237</td>\n",
       "      <td>814,885</td>\n",
       "      <td>24,701</td>\n",
       "      <td>20 - 29</td>\n",
       "    </tr>\n",
       "    <tr>\n",
       "      <th>4</th>\n",
       "      <td>10320494</td>\n",
       "      <td>Yellow Cab</td>\n",
       "      <td>ATLANTA GA</td>\n",
       "      <td>36.38</td>\n",
       "      <td>721.10</td>\n",
       "      <td>467.1192</td>\n",
       "      <td>21/04/18</td>\n",
       "      <td>253.9808</td>\n",
       "      <td>27703</td>\n",
       "      <td>Card</td>\n",
       "      <td>Male</td>\n",
       "      <td>27</td>\n",
       "      <td>9237</td>\n",
       "      <td>814,885</td>\n",
       "      <td>24,701</td>\n",
       "      <td>20 - 29</td>\n",
       "    </tr>\n",
       "    <tr>\n",
       "      <th>...</th>\n",
       "      <td>...</td>\n",
       "      <td>...</td>\n",
       "      <td>...</td>\n",
       "      <td>...</td>\n",
       "      <td>...</td>\n",
       "      <td>...</td>\n",
       "      <td>...</td>\n",
       "      <td>...</td>\n",
       "      <td>...</td>\n",
       "      <td>...</td>\n",
       "      <td>...</td>\n",
       "      <td>...</td>\n",
       "      <td>...</td>\n",
       "      <td>...</td>\n",
       "      <td>...</td>\n",
       "      <td>...</td>\n",
       "    </tr>\n",
       "    <tr>\n",
       "      <th>359387</th>\n",
       "      <td>10307228</td>\n",
       "      <td>Yellow Cab</td>\n",
       "      <td>WASHINGTON DC</td>\n",
       "      <td>38.40</td>\n",
       "      <td>668.93</td>\n",
       "      <td>525.3120</td>\n",
       "      <td>03/03/18</td>\n",
       "      <td>143.6180</td>\n",
       "      <td>51406</td>\n",
       "      <td>Cash</td>\n",
       "      <td>Female</td>\n",
       "      <td>29</td>\n",
       "      <td>6829</td>\n",
       "      <td>418,859</td>\n",
       "      <td>127,001</td>\n",
       "      <td>20 - 29</td>\n",
       "    </tr>\n",
       "    <tr>\n",
       "      <th>359388</th>\n",
       "      <td>10319775</td>\n",
       "      <td>Yellow Cab</td>\n",
       "      <td>WASHINGTON DC</td>\n",
       "      <td>3.57</td>\n",
       "      <td>67.60</td>\n",
       "      <td>44.5536</td>\n",
       "      <td>13/04/18</td>\n",
       "      <td>23.0464</td>\n",
       "      <td>51406</td>\n",
       "      <td>Cash</td>\n",
       "      <td>Female</td>\n",
       "      <td>29</td>\n",
       "      <td>6829</td>\n",
       "      <td>418,859</td>\n",
       "      <td>127,001</td>\n",
       "      <td>20 - 29</td>\n",
       "    </tr>\n",
       "    <tr>\n",
       "      <th>359389</th>\n",
       "      <td>10347676</td>\n",
       "      <td>Yellow Cab</td>\n",
       "      <td>WASHINGTON DC</td>\n",
       "      <td>23.46</td>\n",
       "      <td>331.97</td>\n",
       "      <td>337.8240</td>\n",
       "      <td>06/07/18</td>\n",
       "      <td>-5.8540</td>\n",
       "      <td>51406</td>\n",
       "      <td>Card</td>\n",
       "      <td>Female</td>\n",
       "      <td>29</td>\n",
       "      <td>6829</td>\n",
       "      <td>418,859</td>\n",
       "      <td>127,001</td>\n",
       "      <td>20 - 29</td>\n",
       "    </tr>\n",
       "    <tr>\n",
       "      <th>359390</th>\n",
       "      <td>10358624</td>\n",
       "      <td>Yellow Cab</td>\n",
       "      <td>WASHINGTON DC</td>\n",
       "      <td>27.60</td>\n",
       "      <td>358.23</td>\n",
       "      <td>364.3200</td>\n",
       "      <td>02/08/18</td>\n",
       "      <td>-6.0900</td>\n",
       "      <td>51406</td>\n",
       "      <td>Cash</td>\n",
       "      <td>Female</td>\n",
       "      <td>29</td>\n",
       "      <td>6829</td>\n",
       "      <td>418,859</td>\n",
       "      <td>127,001</td>\n",
       "      <td>20 - 29</td>\n",
       "    </tr>\n",
       "    <tr>\n",
       "      <th>359391</th>\n",
       "      <td>10370709</td>\n",
       "      <td>Yellow Cab</td>\n",
       "      <td>WASHINGTON DC</td>\n",
       "      <td>34.24</td>\n",
       "      <td>453.11</td>\n",
       "      <td>427.3152</td>\n",
       "      <td>30/08/18</td>\n",
       "      <td>25.7948</td>\n",
       "      <td>51406</td>\n",
       "      <td>Card</td>\n",
       "      <td>Female</td>\n",
       "      <td>29</td>\n",
       "      <td>6829</td>\n",
       "      <td>418,859</td>\n",
       "      <td>127,001</td>\n",
       "      <td>20 - 29</td>\n",
       "    </tr>\n",
       "  </tbody>\n",
       "</table>\n",
       "<p>359392 rows × 16 columns</p>\n",
       "</div>"
      ],
      "text/plain": [
       "        Transaction ID     Company           City  KM Travelled  \\\n",
       "0             10000011    Pink Cab     ATLANTA GA         30.45   \n",
       "1             10351127  Yellow Cab     ATLANTA GA         26.19   \n",
       "2             10412921  Yellow Cab     ATLANTA GA         42.55   \n",
       "3             10000012    Pink Cab     ATLANTA GA         28.62   \n",
       "4             10320494  Yellow Cab     ATLANTA GA         36.38   \n",
       "...                ...         ...            ...           ...   \n",
       "359387        10307228  Yellow Cab  WASHINGTON DC         38.40   \n",
       "359388        10319775  Yellow Cab  WASHINGTON DC          3.57   \n",
       "359389        10347676  Yellow Cab  WASHINGTON DC         23.46   \n",
       "359390        10358624  Yellow Cab  WASHINGTON DC         27.60   \n",
       "359391        10370709  Yellow Cab  WASHINGTON DC         34.24   \n",
       "\n",
       "        Price Charged  Cost of Trip      Date    Profit  Customer ID  \\\n",
       "0              370.95      313.6350  08/01/16   57.3150        29290   \n",
       "1              598.70      317.4228  21/07/18  281.2772        29290   \n",
       "2              792.05      597.4020  23/11/18  194.6480        29290   \n",
       "3              358.52      334.8540  06/01/16   23.6660        27703   \n",
       "4              721.10      467.1192  21/04/18  253.9808        27703   \n",
       "...               ...           ...       ...       ...          ...   \n",
       "359387         668.93      525.3120  03/03/18  143.6180        51406   \n",
       "359388          67.60       44.5536  13/04/18   23.0464        51406   \n",
       "359389         331.97      337.8240  06/07/18   -5.8540        51406   \n",
       "359390         358.23      364.3200  02/08/18   -6.0900        51406   \n",
       "359391         453.11      427.3152  30/08/18   25.7948        51406   \n",
       "\n",
       "       Payment_Mode  Gender  Age  Income (USD/Month) Population      Users  \\\n",
       "0              Card    Male   28               10813   814,885     24,701    \n",
       "1              Cash    Male   28               10813   814,885     24,701    \n",
       "2              Card    Male   28               10813   814,885     24,701    \n",
       "3              Card    Male   27                9237   814,885     24,701    \n",
       "4              Card    Male   27                9237   814,885     24,701    \n",
       "...             ...     ...  ...                 ...        ...        ...   \n",
       "359387         Cash  Female   29                6829   418,859    127,001    \n",
       "359388         Cash  Female   29                6829   418,859    127,001    \n",
       "359389         Card  Female   29                6829   418,859    127,001    \n",
       "359390         Cash  Female   29                6829   418,859    127,001    \n",
       "359391         Card  Female   29                6829   418,859    127,001    \n",
       "\n",
       "       Age group  \n",
       "0        20 - 29  \n",
       "1        20 - 29  \n",
       "2        20 - 29  \n",
       "3        20 - 29  \n",
       "4        20 - 29  \n",
       "...          ...  \n",
       "359387   20 - 29  \n",
       "359388   20 - 29  \n",
       "359389   20 - 29  \n",
       "359390   20 - 29  \n",
       "359391   20 - 29  \n",
       "\n",
       "[359392 rows x 16 columns]"
      ]
     },
     "execution_count": 43,
     "metadata": {},
     "output_type": "execute_result"
    }
   ],
   "source": [
    "labels = [\"{0} - {1}\".format(i, i + 9) for i in range(10, 70, 10)]\n",
    "df[\"Age group\"] = pd.cut(df.Age, range(10,75, 10), right=False, labels=labels)\n",
    "df"
   ]
  },
  {
   "cell_type": "markdown",
   "id": "2be7a0d5-2059-4fac-893a-d48afc32cb02",
   "metadata": {},
   "source": [
    "###  Columns Names"
   ]
  },
  {
   "cell_type": "code",
   "execution_count": 44,
   "id": "94315a0d",
   "metadata": {},
   "outputs": [
    {
     "data": {
      "text/plain": [
       "Index(['Transaction ID', 'Company', 'City', 'KM Travelled', 'Price Charged',\n",
       "       'Cost of Trip', 'Date', 'Profit', 'Customer ID', 'Payment_Mode',\n",
       "       'Gender', 'Age', 'Income (USD/Month)', 'Population', 'Users',\n",
       "       'Age group'],\n",
       "      dtype='object')"
      ]
     },
     "execution_count": 44,
     "metadata": {},
     "output_type": "execute_result"
    }
   ],
   "source": [
    "df.columns"
   ]
  },
  {
   "cell_type": "markdown",
   "id": "0e194d7f-bba2-4418-a49f-c1470dabeb2f",
   "metadata": {},
   "source": [
    "### Multivariate analysis to check the relationship between Profit and 'Company','Price Charged','Cost of Trip','Age','KM Travelled'."
   ]
  },
  {
   "cell_type": "code",
   "execution_count": 45,
   "id": "693cb10b",
   "metadata": {},
   "outputs": [
    {
     "data": {
      "text/plain": [
       "Company     Price Charged  Cost of Trip  Age  KM Travelled\n",
       "Pink Cab    15.60          21.3840       34   1.98              -5.7840\n",
       "            15.75          24.7800       32   2.10              -9.0300\n",
       "            16.38          19.3800       43   1.90              -3.0000\n",
       "            16.53          19.2000       57   1.92              -2.6700\n",
       "            16.76          19.9820       18   1.94              -3.2220\n",
       "                                                                ...    \n",
       "Yellow Cab  1981.05        556.9092      37   41.81           1424.1408\n",
       "            1993.83        594.7200      60   47.20           1399.1100\n",
       "            2013.95        580.6080      64   43.20           1433.3420\n",
       "            2016.70        571.4280      37   43.29           1445.2720\n",
       "            2048.03        584.0640      18   46.80           1463.9660\n",
       "Name: Profit, Length: 359386, dtype: float64"
      ]
     },
     "execution_count": 45,
     "metadata": {},
     "output_type": "execute_result"
    }
   ],
   "source": [
    "df.groupby(['Company','Price Charged','Cost of Trip','Age','KM Travelled'])['Profit'].mean()\n"
   ]
  },
  {
   "cell_type": "markdown",
   "id": "aba6a2d4-e7ca-4a03-9b4f-69b4650c7b83",
   "metadata": {},
   "source": [
    "### Observing Graph of Company vs Profit \n",
    "### - Noticed Yellow Cab have more Profit "
   ]
  },
  {
   "cell_type": "code",
   "execution_count": 46,
   "id": "ebff9354",
   "metadata": {},
   "outputs": [
    {
     "data": {
      "image/png": "[encoded data removed]",
      "text/plain": [
       "<Figure size 432x288 with 1 Axes>"
      ]
     },
     "metadata": {},
     "output_type": "display_data"
    }
   ],
   "source": [
    "graph_1 =df.groupby(['Company'])['Profit'].mean().plot(kind='bar')"
   ]
  },
  {
   "cell_type": "markdown",
   "id": "b2955e7e-be20-406a-a18d-83b84e028134",
   "metadata": {},
   "source": [
    "### Observing Graph of Age vs Profit \n",
    "### - Noted Age groups from 20-49 creates more Profit "
   ]
  },
  {
   "cell_type": "code",
   "execution_count": 47,
   "id": "c8d446b4",
   "metadata": {},
   "outputs": [
    {
     "data": {
      "image/png": "[encoded data removed]",
      "text/plain": [
       "<Figure size 432x288 with 1 Axes>"
      ]
     },
     "metadata": {},
     "output_type": "display_data"
    }
   ],
   "source": [
    "graph_2 = df.groupby(['Age group'])['Profit'].mean().plot(kind='bar')"
   ]
  },
  {
   "cell_type": "markdown",
   "id": "d5423e6e-620a-4f4a-87ae-f18aca9e0290",
   "metadata": {},
   "source": [
    "### Profit per cabs"
   ]
  },
  {
   "cell_type": "code",
   "execution_count": 48,
   "id": "2da8d949",
   "metadata": {},
   "outputs": [
    {
     "data": {
      "text/plain": [
       "<AxesSubplot:title={'center':\"Profit made by both the Company's \"}, ylabel='Profit'>"
      ]
     },
     "execution_count": 48,
     "metadata": {},
     "output_type": "execute_result"
    },
    {
     "data": {
      "image/png": "[encoded data removed]",
      "text/plain": [
       "<Figure size 1080x504 with 1 Axes>"
      ]
     },
     "metadata": {},
     "output_type": "display_data"
    }
   ],
   "source": [
    "plt.title(\"Profit made by both the Company's \")\n",
    "df.groupby('Company')['Profit'].sum().plot(kind='pie',y='Company',startangle=20,colors = (\"pink\", \"yellow\") ,figsize=(15,7),autopct='%1.1f%%',explode=[0.03]*2,pctdistance=0.5)"
   ]
  },
  {
   "cell_type": "code",
   "execution_count": 49,
   "id": "7f5102f8-ca1d-48d9-9692-6afc1904a626",
   "metadata": {},
   "outputs": [
    {
     "data": {
      "text/plain": [
       "dtype('O')"
      ]
     },
     "execution_count": 49,
     "metadata": {},
     "output_type": "execute_result"
    }
   ],
   "source": [
    "np.dtype(df['Date'])"
   ]
  },
  {
   "cell_type": "code",
   "execution_count": 50,
   "id": "4b785b9a-3d64-4031-b609-3f002a1b7a7d",
   "metadata": {},
   "outputs": [],
   "source": [
    "df['Date']=pd.to_datetime(df['Date'])"
   ]
  },
  {
   "cell_type": "code",
   "execution_count": 51,
   "id": "30e7b899-b08e-4755-a945-15773f0c1805",
   "metadata": {},
   "outputs": [
    {
     "data": {
      "text/plain": [
       "Date  Company   \n",
       "2016  Pink Cab       68.321819\n",
       "      Yellow Cab    169.347821\n",
       "2017  Pink Cab       67.070839\n",
       "      Yellow Cab    168.817057\n",
       "2018  Pink Cab       53.229689\n",
       "      Yellow Cab    143.416122\n",
       "Name: Profit, dtype: float64"
      ]
     },
     "execution_count": 51,
     "metadata": {},
     "output_type": "execute_result"
    }
   ],
   "source": [
    "df.groupby([df['Date'].dt.year,'Company'])['Profit'].mean()"
   ]
  },
  {
   "cell_type": "markdown",
   "id": "abdd033a-9cb2-4c90-8b5a-8ce6d34acf3a",
   "metadata": {},
   "source": [
    "## Areas to investigate:"
   ]
  },
  {
   "cell_type": "markdown",
   "id": "003fb98f-2944-4e12-9e98-f7eb11ca1b05",
   "metadata": {},
   "source": [
    "### Q.1) Which company has maximum cab users at a particular time period?"
   ]
  },
  {
   "cell_type": "code",
   "execution_count": 52,
   "id": "8e2e5e24-92ee-4cf6-9be7-6252fcd28df5",
   "metadata": {},
   "outputs": [
    {
     "data": {
      "text/plain": [
       "Date  Company   \n",
       "2016  Pink Cab      25080\n",
       "      Yellow Cab    82239\n",
       "2017  Pink Cab      30321\n",
       "      Yellow Cab    98189\n",
       "2018  Pink Cab      29310\n",
       "      Yellow Cab    94253\n",
       "Name: Customer ID, dtype: int64"
      ]
     },
     "execution_count": 52,
     "metadata": {},
     "output_type": "execute_result"
    }
   ],
   "source": [
    "df.groupby([df['Date'].dt.year,'Company'])['Customer ID'].count()"
   ]
  },
  {
   "cell_type": "markdown",
   "id": "c7b29db0-2cc8-47cd-86f9-befc97ecf495",
   "metadata": {},
   "source": [
    "### In 2016, 2017 and 2018, Yellow cab has maximum customers"
   ]
  },
  {
   "cell_type": "code",
   "execution_count": 53,
   "id": "a4fa68e1-92e5-4a2d-84d7-4efafbdd9d8e",
   "metadata": {},
   "outputs": [
    {
     "data": {
      "text/plain": [
       "Date  Company   \n",
       "2016  Pink Cab       68.321819\n",
       "      Yellow Cab    169.347821\n",
       "2017  Pink Cab       67.070839\n",
       "      Yellow Cab    168.817057\n",
       "2018  Pink Cab       53.229689\n",
       "      Yellow Cab    143.416122\n",
       "Name: Profit, dtype: float64"
      ]
     },
     "execution_count": 53,
     "metadata": {},
     "output_type": "execute_result"
    }
   ],
   "source": [
    "df.groupby([df['Date'].dt.year,'Company'])['Profit'].mean()"
   ]
  },
  {
   "cell_type": "code",
   "execution_count": 54,
   "id": "e07671d7-bf07-407b-82cc-f34bbbc03791",
   "metadata": {},
   "outputs": [
    {
     "data": {
      "image/png": "[encoded data removed]",
      "text/plain": [
       "<Figure size 432x288 with 1 Axes>"
      ]
     },
     "metadata": {},
     "output_type": "display_data"
    }
   ],
   "source": [
    "sns.lineplot(x='Date', y='Profit', hue=\"Company\", data=df, marker='o')\n",
    "plt.xlabel(\"Year\", size=14)\n",
    "plt.ylabel(\"Profit %\", size=14)\n",
    "plt.title(\"Profit % per year\")\n",
    "plt.show()"
   ]
  },
  {
   "cell_type": "markdown",
   "id": "f66dab7a-83d7-464c-a47f-c25accb28ee8",
   "metadata": {},
   "source": [
    "### Q.2) Does margin proportionally increase with increase in number of customers?"
   ]
  },
  {
   "cell_type": "code",
   "execution_count": 55,
   "id": "d59196b8-f992-4f94-9129-703a39e8f152",
   "metadata": {},
   "outputs": [
    {
     "data": {
      "text/plain": [
       "Date  Company   \n",
       "2016  Pink Cab      15124.241587\n",
       "      Yellow Cab    15034.414900\n",
       "2017  Pink Cab      15058.789123\n",
       "      Yellow Cab    15069.108974\n",
       "2018  Pink Cab      15003.528420\n",
       "      Yellow Cab    15031.072146\n",
       "Name: Income (USD/Month), dtype: float64"
      ]
     },
     "execution_count": 55,
     "metadata": {},
     "output_type": "execute_result"
    }
   ],
   "source": [
    "df.groupby([df['Date'].dt.year,'Company'])['Income (USD/Month)'].mean() "
   ]
  },
  {
   "cell_type": "markdown",
   "id": "e11ede29-d62e-4ef2-9d85-013a3d4abdcf",
   "metadata": {},
   "source": [
    "### - Outcome: Yellow Cab Company has got higher Income and Customers as compared to Pink Cab Company"
   ]
  },
  {
   "cell_type": "markdown",
   "id": "41914db9-f62b-4f72-8322-9e9a337a8ca6",
   "metadata": {},
   "source": [
    "### Q.3) What are the attributes of these customer segments? "
   ]
  },
  {
   "cell_type": "code",
   "execution_count": 56,
   "id": "dc696625-f50c-4ec4-8938-91ceb8e8e0c7",
   "metadata": {},
   "outputs": [
    {
     "data": {
      "image/png": "[encoded data removed]",
      "text/plain": [
       "<Figure size 432x288 with 1 Axes>"
      ]
     },
     "metadata": {},
     "output_type": "display_data"
    }
   ],
   "source": [
    "graph_3 = df.groupby(['City'])['Profit'].mean().plot(kind='bar')"
   ]
  },
  {
   "cell_type": "code",
   "execution_count": 57,
   "id": "e6f81c97-e1ea-424e-979a-37bf36767fb6",
   "metadata": {},
   "outputs": [
    {
     "data": {
      "image/png": "[encoded data removed]",
      "text/plain": [
       "<Figure size 1728x2016 with 1 Axes>"
      ]
     },
     "metadata": {},
     "output_type": "display_data"
    }
   ],
   "source": [
    "f, ax = plt.subplots(figsize=(24, 28))\n",
    "sns.set_context('poster', font_scale = 1)\n",
    "ax = sns.countplot(x='Company', hue='Users', palette='pastel', data=df)\n",
    "plt.show()"
   ]
  },
  {
   "cell_type": "code",
   "execution_count": 58,
   "id": "790a16b5-5612-46d0-b1cd-2f639c60f52e",
   "metadata": {},
   "outputs": [
    {
     "data": {
      "image/png": "[encoded data removed]",
      "text/plain": [
       "<Figure size 1152x1440 with 1 Axes>"
      ]
     },
     "metadata": {},
     "output_type": "display_data"
    }
   ],
   "source": [
    "f, city_comparison = plt.subplots(figsize=(16, 20))\n",
    "city_comparison = sns.countplot(y='City', hue='Users',  palette='pastel', data=df)\n",
    "plt.show()"
   ]
  },
  {
   "cell_type": "code",
   "execution_count": 59,
   "id": "4760a4a8-1b0c-4c6d-a4c1-9404b5cd6257",
   "metadata": {},
   "outputs": [
    {
     "data": {
      "image/png": "[encoded data removed]",
      "text/plain": [
       "<Figure size 1728x2016 with 1 Axes>"
      ]
     },
     "metadata": {},
     "output_type": "display_data"
    }
   ],
   "source": [
    "f, ax = plt.subplots(figsize=(24, 28))\n",
    "sns.stripplot(x=\"Company\", y=\"City\", hue=\"Population\",\n",
    "                   data=df, palette=\"Set2\", size=20, marker=\"D\",\n",
    "                   edgecolor=\"gray\", alpha=.25)\n",
    "plt.show()\n"
   ]
  },
  {
   "cell_type": "code",
   "execution_count": 60,
   "id": "03d010ea-9fc7-4bad-892b-3ad40d29a0a2",
   "metadata": {},
   "outputs": [
    {
     "data": {
      "text/plain": [
       "Date  Payment_Mode\n",
       "2016  Card            145.766499\n",
       "      Cash            145.696508\n",
       "2017  Card            144.780134\n",
       "      Cash            144.856528\n",
       "2018  Card            121.580234\n",
       "      Cash            122.689278\n",
       "Name: Profit, dtype: float64"
      ]
     },
     "execution_count": 60,
     "metadata": {},
     "output_type": "execute_result"
    }
   ],
   "source": [
    "df.groupby([df['Date'].dt.year,'Payment_Mode'])['Profit'].mean()"
   ]
  },
  {
   "cell_type": "code",
   "execution_count": 61,
   "id": "e02375ba-bce4-477c-87bd-1ae999b6d8e1",
   "metadata": {},
   "outputs": [
    {
     "data": {
      "text/plain": [
       "Date  Company   \n",
       "2016  Pink Cab      25080\n",
       "      Yellow Cab    82239\n",
       "2017  Pink Cab      30321\n",
       "      Yellow Cab    98189\n",
       "2018  Pink Cab      29310\n",
       "      Yellow Cab    94253\n",
       "Name: KM Travelled, dtype: int64"
      ]
     },
     "execution_count": 61,
     "metadata": {},
     "output_type": "execute_result"
    }
   ],
   "source": [
    "df.groupby([df['Date'].dt.year,'Company'])['KM Travelled'].count()"
   ]
  },
  {
   "cell_type": "code",
   "execution_count": 62,
   "id": "0fbd94e9-e7b3-448c-a03c-3ccd45fc5e59",
   "metadata": {},
   "outputs": [
    {
     "data": {
      "text/plain": [
       "Date  Company   \n",
       "2016  Pink Cab      25080\n",
       "      Yellow Cab    82239\n",
       "2017  Pink Cab      30321\n",
       "      Yellow Cab    98189\n",
       "2018  Pink Cab      29310\n",
       "      Yellow Cab    94253\n",
       "Name: Cost of Trip, dtype: int64"
      ]
     },
     "execution_count": 62,
     "metadata": {},
     "output_type": "execute_result"
    }
   ],
   "source": [
    "df.groupby([df['Date'].dt.year,'Company'])['Cost of Trip'].count()"
   ]
  },
  {
   "cell_type": "code",
   "execution_count": 63,
   "id": "569daed0-b226-4b38-81d3-505d8cf1c9ac",
   "metadata": {},
   "outputs": [
    {
     "data": {
      "text/plain": [
       "Date  Company   \n",
       "2016  Pink Cab      25080\n",
       "      Yellow Cab    82239\n",
       "2017  Pink Cab      30321\n",
       "      Yellow Cab    98189\n",
       "2018  Pink Cab      29310\n",
       "      Yellow Cab    94253\n",
       "Name: Income (USD/Month), dtype: int64"
      ]
     },
     "execution_count": 63,
     "metadata": {},
     "output_type": "execute_result"
    }
   ],
   "source": [
    "df.groupby([df['Date'].dt.year,'Company'])['Income (USD/Month)'].count()"
   ]
  },
  {
   "cell_type": "code",
   "execution_count": 64,
   "id": "c04a0044-77fe-4640-8ef6-ef6273934485",
   "metadata": {},
   "outputs": [
    {
     "data": {
      "text/plain": [
       "Date  Company   \n",
       "2016  Pink Cab      25080\n",
       "      Yellow Cab    82239\n",
       "2017  Pink Cab      30321\n",
       "      Yellow Cab    98189\n",
       "2018  Pink Cab      29310\n",
       "      Yellow Cab    94253\n",
       "Name: Age group, dtype: int64"
      ]
     },
     "execution_count": 64,
     "metadata": {},
     "output_type": "execute_result"
    }
   ],
   "source": [
    "df.groupby([df['Date'].dt.year,'Company'])['Age group'].count()"
   ]
  },
  {
   "cell_type": "code",
   "execution_count": 65,
   "id": "93043eb5-ce04-4583-9164-aab776efc92b",
   "metadata": {},
   "outputs": [
    {
     "data": {
      "text/plain": [
       "Date  Age group\n",
       "2016  10 - 19       6606\n",
       "      20 - 29      34704\n",
       "      30 - 39      33884\n",
       "      40 - 49      13885\n",
       "      50 - 59      11445\n",
       "      60 - 69       6795\n",
       "2017  10 - 19       8208\n",
       "      20 - 29      41717\n",
       "      30 - 39      40004\n",
       "      40 - 49      16899\n",
       "      50 - 59      13554\n",
       "      60 - 69       8128\n",
       "2018  10 - 19       7623\n",
       "      20 - 29      40009\n",
       "      30 - 39      38847\n",
       "      40 - 49      16233\n",
       "      50 - 59      13088\n",
       "      60 - 69       7763\n",
       "Name: Profit, dtype: int64"
      ]
     },
     "execution_count": 65,
     "metadata": {},
     "output_type": "execute_result"
    }
   ],
   "source": [
    "df.groupby([df['Date'].dt.year,'Age group'])['Profit'].count()"
   ]
  },
  {
   "cell_type": "markdown",
   "id": "e1f47663-8726-4ba5-b2c5-95571b7be29e",
   "metadata": {},
   "source": [
    "### - Some Important Findings based on Question #3\n",
    "\n",
    "#### a) Payment mode does not looks so important as both Card and Cash not making much difference.\n",
    "\n",
    "#### b) Yellow Cab Travelled more Kilometers as compared to Pink Cab. So Kilometers Travelled by each cab and the availability of more cabs can be          an important factor of getting more Customers.\n",
    "\n",
    "#### c) The Cost of Trip is higher for Yellow Cab as compared to Pink Cab because Yellow Cab had more trips and travelled more kilometers.\n",
    "\n",
    "#### d) Yellow cab company has much more income than pink cab company, since it has more customers.\n",
    "\n",
    "#### e) When compared with Age group in the year 2016 , 2017 and 2018 people aged between 20-39 might have used more cab services as compared to other Age groups."
   ]
  },
  {
   "cell_type": "markdown",
   "id": "9c0d012c-8591-45a8-9389-fc67d372b637",
   "metadata": {},
   "source": [
    "### 1) Rides to which city made more Profit? \n",
    "#### -New York NY\n",
    "### 2)Which City is in high demand for cab users?  \n",
    "#### -New York NY\n",
    "### 3)Which Company has more Users? \n",
    "#### -Yellow Cab with 302,149\n",
    "### 4)Which City has highest Population?\n",
    "#### -New York Ny with 8,405,837"
   ]
  },
  {
   "cell_type": "markdown",
   "id": "65b1e8c0-aab4-4798-a3e5-175efd62e27c",
   "metadata": {},
   "source": [
    "## Analysis\n",
    "### Create multiple hypothesis and investigate:\n"
   ]
  },
  {
   "cell_type": "code",
   "execution_count": 66,
   "id": "209bd647-3d34-4c0d-b586-92c89cbb8d74",
   "metadata": {},
   "outputs": [],
   "source": [
    "#Example :- you have 10 ages and you are checking whether avg age is 30 or not. (check code below for that using python)\n",
    "#ages = np.genfromtxt(“ages.csv”)\n",
    "#print(ages)\n",
    "#ages_mean = np.mean(ages)\n",
    "#print(ages_mean)\n",
    "#tset, pval = ttest_1samp(ages, 30)\n",
    "#print(“p-values”,pval)\n",
    "#if pval < 0.05:    # alpha value is 0.05 or 5%\n",
    " #  print(\" we are rejecting null hypothesis\")\n",
    "#else:\n",
    "#  print(\"we are accepting null hypothesis\")"
   ]
  },
  {
   "cell_type": "markdown",
   "id": "85e27c8c-49f7-4ff1-aebc-9259e6052141",
   "metadata": {},
   "source": [
    "### - Hypothesis Testing based on Payment Mode and Profit"
   ]
  },
  {
   "cell_type": "code",
   "execution_count": 67,
   "id": "b1783b2f-7b13-44e7-a8b4-9b7a8498f2e3",
   "metadata": {},
   "outputs": [
    {
     "name": "stdout",
     "output_type": "stream",
     "text": [
      "109896 164785\n",
      "P value is  0.2933060638298729\n",
      "We are accepting null hypothesis that there is no difference noted regarding Payment Mode and Yellow Cab\n"
     ]
    }
   ],
   "source": [
    "cash = df[(df['Payment_Mode']=='Cash')&(df.Company=='Yellow Cab')].groupby('Transaction ID').Profit.mean()\n",
    "card = df[(df['Payment_Mode']=='Card')&(df.Company=='Yellow Cab')].groupby('Transaction ID').Profit.mean()\n",
    "print(cash.shape[0],card.shape[0])\n",
    "_, p_value = stats.ttest_ind(cash.values,card.values,equal_var=True)\n",
    "\n",
    "print('P value is ', p_value)\n",
    "\n",
    "if(p_value<0.05):  # alpha value is 0.05 or 5%\n",
    "    print(\"we are rejecting null hypothesis and it says that there is a difference regarding Payment Mode and Yellow Cab\")\n",
    "else:\n",
    "    print(\"We are accepting null hypothesis that there is no difference noted regarding Payment Mode and Yellow Cab\")"
   ]
  },
  {
   "cell_type": "code",
   "execution_count": 68,
   "id": "11feff4a-f75b-4915-9921-1f52875535ad",
   "metadata": {},
   "outputs": [
    {
     "name": "stdout",
     "output_type": "stream",
     "text": [
      "33992 50719\n",
      "P value is  0.7900465828793288\n",
      "We are accepting null hypothesis that there is no difference noted regarding Payment Mode and Pink Cab\n"
     ]
    }
   ],
   "source": [
    "cash = df[(df['Payment_Mode']=='Cash')&(df.Company=='Pink Cab')].groupby('Transaction ID').Profit.mean()\n",
    "card = df[(df['Payment_Mode']=='Card')&(df.Company=='Pink Cab')].groupby('Transaction ID').Profit.mean()\n",
    "print(cash.shape[0],card.shape[0])\n",
    "_, p_value = stats.ttest_ind(cash.values,card.values,equal_var=True)\n",
    "\n",
    "print('P value is ', p_value)\n",
    "\n",
    "if(p_value<0.05):  # alpha value is 0.05 or 5%\n",
    "    print(\"we are rejecting null hypothesis and it says that there is a difference regarding Payment Mode and Pink Cab\")\n",
    "else:\n",
    "    print(\"We are accepting null hypothesis that there is no difference noted regarding Payment Mode and Pink Cab\")"
   ]
  },
  {
   "cell_type": "markdown",
   "id": "6b980823-76a5-4706-83aa-05745ac0f813",
   "metadata": {},
   "source": [
    "### - Hypothesis Testing based on Age and Profit"
   ]
  },
  {
   "cell_type": "code",
   "execution_count": 69,
   "id": "0cac5476-3ce2-46f9-a347-76e9043c8523",
   "metadata": {},
   "outputs": [
    {
     "name": "stdout",
     "output_type": "stream",
     "text": [
      "201029 82454\n",
      "P value is  0.44246196729249976\n",
      "We are accepting null hypothesis that there is no difference noted regarding Age and Yellow Cab\n"
     ]
    }
   ],
   "source": [
    "x = df[(df.Age <= 40)&(df.Company=='Yellow Cab')].groupby('Transaction ID').Profit.mean()\n",
    "y = df[(df.Age >= 40)&(df.Company=='Yellow Cab')].groupby('Transaction ID').Profit.mean()\n",
    "print(x.shape[0],y.shape[0])\n",
    "_, p_value = stats.ttest_ind(x.values,y.values,equal_var=True)\n",
    "\n",
    "print('P value is ', p_value)\n",
    "\n",
    "if(p_value<0.05):  # alpha value is 0.05 or 5%\n",
    "    print(\"we are rejecting null hypothesis and it says that there is a difference regarding Age and Yellow Cab\")\n",
    "else:\n",
    "    print(\"We are accepting null hypothesis that there is no difference noted regarding Age and Yellow Cab\")"
   ]
  },
  {
   "cell_type": "code",
   "execution_count": 70,
   "id": "779d15a5-9db6-4f48-9b25-fad9743fbb79",
   "metadata": {},
   "outputs": [
    {
     "name": "stdout",
     "output_type": "stream",
     "text": [
      "62109 25336\n",
      "P value is  0.09093510590632374\n",
      "We are accepting null hypothesis that there is no difference noted regarding Age and Pink Cab\n"
     ]
    }
   ],
   "source": [
    "x = df[(df.Age <= 40)&(df.Company=='Pink Cab')].groupby('Transaction ID').Profit.mean()\n",
    "y = df[(df.Age >= 40)&(df.Company=='Pink Cab')].groupby('Transaction ID').Profit.mean()\n",
    "print(x.shape[0],y.shape[0])\n",
    "_, p_value = stats.ttest_ind(x.values,y.values,equal_var=True)\n",
    "\n",
    "print('P value is ', p_value)\n",
    "\n",
    "if(p_value<0.05):  # alpha value is 0.05 or 5%\n",
    "    print(\"we are rejecting null hypothesis and it says that there is a difference regarding Age and Pink Cab\")\n",
    "else:\n",
    "    print(\"We are accepting null hypothesis that there is no difference noted regarding Age and Pink Cab\")"
   ]
  },
  {
   "cell_type": "markdown",
   "id": "bc2ba500-f9b9-4fef-ac3d-e007478875c7",
   "metadata": {},
   "source": [
    "## Outlier Detection and Removal"
   ]
  },
  {
   "cell_type": "markdown",
   "id": "2bb9aaf0-6795-4578-9d2f-91d9b6c724f7",
   "metadata": {},
   "source": [
    "### `Outlier Detection on Kilometers Travelled.` - Noticed there are no outliers"
   ]
  },
  {
   "cell_type": "code",
   "execution_count": 71,
   "id": "7180feec-e3b4-4d41-b118-51e8fa881dc4",
   "metadata": {},
   "outputs": [
    {
     "data": {
      "image/png": "[encoded data removed]",
      "text/plain": [
       "<Figure size 2160x720 with 1 Axes>"
      ]
     },
     "metadata": {},
     "output_type": "display_data"
    }
   ],
   "source": [
    "plt.figure(figsize=(30,10), facecolor='w')\n",
    "sns.boxplot(data=df['KM Travelled'])\n",
    "plt.show()"
   ]
  },
  {
   "cell_type": "markdown",
   "id": "2ad0400d-f101-41f7-9769-c69bcc347632",
   "metadata": {},
   "source": [
    "### `Outlier Detection on Price Charged.` - Noticed there are Outliers"
   ]
  },
  {
   "cell_type": "code",
   "execution_count": 72,
   "id": "385a7fe2-1074-4a2e-81d4-5156af2fb5e5",
   "metadata": {},
   "outputs": [
    {
     "data": {
      "image/png": "[encoded data removed]",
      "text/plain": [
       "<Figure size 2160x720 with 1 Axes>"
      ]
     },
     "metadata": {},
     "output_type": "display_data"
    }
   ],
   "source": [
    "plt.figure(figsize=(30,10), facecolor='w')\n",
    "sns.boxplot(data=df['Price Charged'])\n",
    "plt.show()"
   ]
  },
  {
   "cell_type": "code",
   "execution_count": 73,
   "id": "873a1c4c-5875-4db5-ae25-a5a8d640288d",
   "metadata": {},
   "outputs": [
    {
     "data": {
      "text/plain": [
       "0.012139947466832873"
      ]
     },
     "execution_count": 73,
     "metadata": {},
     "output_type": "execute_result"
    }
   ],
   "source": [
    "len(np.where(df['Price Charged']>1200)[0])/len(df)"
   ]
  },
  {
   "cell_type": "markdown",
   "id": "894b6f7b-d06a-4150-bf15-63d5069bd78c",
   "metadata": {},
   "source": [
    "### `Outlier Detection on Profit.` - Noticed there are Outliers"
   ]
  },
  {
   "cell_type": "code",
   "execution_count": 74,
   "id": "dc99fb20-0f4b-4fea-9f85-4df1982a3533",
   "metadata": {},
   "outputs": [
    {
     "data": {
      "image/png": "[encoded data removed]",
      "text/plain": [
       "<Figure size 2160x720 with 1 Axes>"
      ]
     },
     "metadata": {},
     "output_type": "display_data"
    }
   ],
   "source": [
    "plt.figure(figsize=(30,10), facecolor='w')\n",
    "sns.boxplot(data=df['Profit'])\n",
    "plt.show()"
   ]
  },
  {
   "cell_type": "code",
   "execution_count": 75,
   "id": "b72ec3cf-4bf5-4e45-83ed-3e0916fab566",
   "metadata": {},
   "outputs": [
    {
     "data": {
      "text/plain": [
       "0.05926119668773929"
      ]
     },
     "execution_count": 75,
     "metadata": {},
     "output_type": "execute_result"
    }
   ],
   "source": [
    "len(np.where(df['Profit']>450)[0])/len(df)"
   ]
  },
  {
   "cell_type": "markdown",
   "id": "1db7af41-9978-41bc-a596-4a45dc64905f",
   "metadata": {},
   "source": [
    "### `Outlier Detection on Age.` - Noticed there are no Outliers"
   ]
  },
  {
   "cell_type": "code",
   "execution_count": 76,
   "id": "682bcee7-094e-4462-8973-d553105c0721",
   "metadata": {},
   "outputs": [
    {
     "data": {
      "image/png": "[encoded data removed]",
      "text/plain": [
       "<Figure size 2160x720 with 1 Axes>"
      ]
     },
     "metadata": {},
     "output_type": "display_data"
    }
   ],
   "source": [
    "plt.figure(figsize=(30,10), facecolor='w')\n",
    "sns.boxplot(data=df['Age'])\n",
    "plt.show()"
   ]
  },
  {
   "cell_type": "markdown",
   "id": "276153eb-940d-4c88-9609-5f15fa21646b",
   "metadata": {},
   "source": [
    "### `Outlier Detection on Income.` - Noticed there are no Outliers"
   ]
  },
  {
   "cell_type": "code",
   "execution_count": 77,
   "id": "c61c790b-f816-4198-94f6-f76674a7667d",
   "metadata": {},
   "outputs": [
    {
     "data": {
      "image/png": "[encoded data removed]",
      "text/plain": [
       "<Figure size 2160x720 with 1 Axes>"
      ]
     },
     "metadata": {},
     "output_type": "display_data"
    }
   ],
   "source": [
    "plt.figure(figsize=(30,10), facecolor='w')\n",
    "sns.boxplot(data=df['Income (USD/Month)'])\n",
    "plt.show()"
   ]
  },
  {
   "cell_type": "markdown",
   "id": "a623c71e-718c-4c5f-bbbc-142a9403207f",
   "metadata": {},
   "source": [
    "### `Outlier Detection on Cost of Trip.` - Noticed there are no Outliers"
   ]
  },
  {
   "cell_type": "code",
   "execution_count": 78,
   "id": "7adce2ef-5413-4e76-91b6-25b9345e477c",
   "metadata": {},
   "outputs": [
    {
     "data": {
      "image/png": "[encoded data removed]",
      "text/plain": [
       "<Figure size 2160x720 with 1 Axes>"
      ]
     },
     "metadata": {},
     "output_type": "display_data"
    }
   ],
   "source": [
    "plt.figure(figsize=(30,10), facecolor='w')\n",
    "sns.boxplot(data=df['Cost of Trip'])\n",
    "plt.show()"
   ]
  },
  {
   "cell_type": "code",
   "execution_count": 79,
   "id": "025dc595-205d-40c1-88f7-48e42b21afc8",
   "metadata": {},
   "outputs": [
    {
     "name": "stdout",
     "output_type": "stream",
     "text": [
      "Removing Outliers:  7244\n"
     ]
    }
   ],
   "source": [
    "df['z_profit']=np.abs(stats.zscore(df.Profit))\n",
    "print(\"Removing Outliers: \", len(df[df['z_profit']>3]))"
   ]
  },
  {
   "cell_type": "code",
   "execution_count": 80,
   "id": "02d4ba18-9016-4caa-9018-dec252b8ce03",
   "metadata": {},
   "outputs": [],
   "source": [
    "df = df[df['z_profit']<3]"
   ]
  },
  {
   "cell_type": "code",
   "execution_count": 81,
   "id": "c39b64ad-272e-4def-9890-bcedd488867f",
   "metadata": {},
   "outputs": [
    {
     "name": "stdout",
     "output_type": "stream",
     "text": [
      "Removing Outliers:  579\n"
     ]
    }
   ],
   "source": [
    "df['z_price_charged']=np.abs(stats.zscore(df['Price Charged']))\n",
    "print(\"Removing Outliers: \", len(df[df['z_price_charged']>3]))"
   ]
  },
  {
   "cell_type": "code",
   "execution_count": 82,
   "id": "b8f5886a-122c-4ac4-8ae6-26d048f85f93",
   "metadata": {},
   "outputs": [],
   "source": [
    "df = df[df['z_price_charged']<3]"
   ]
  },
  {
   "cell_type": "code",
   "execution_count": 83,
   "id": "a914eb26-8e55-44c1-bf21-620c32057dfa",
   "metadata": {},
   "outputs": [
    {
     "name": "stdout",
     "output_type": "stream",
     "text": [
      "<class 'pandas.core.frame.DataFrame'>\n",
      "Int64Index: 351569 entries, 0 to 359391\n",
      "Data columns (total 18 columns):\n",
      " #   Column              Non-Null Count   Dtype         \n",
      "---  ------              --------------   -----         \n",
      " 0   Transaction ID      351569 non-null  int64         \n",
      " 1   Company             351569 non-null  object        \n",
      " 2   City                351569 non-null  object        \n",
      " 3   KM Travelled        351569 non-null  float64       \n",
      " 4   Price Charged       351569 non-null  float64       \n",
      " 5   Cost of Trip        351569 non-null  float64       \n",
      " 6   Date                351569 non-null  datetime64[ns]\n",
      " 7   Profit              351569 non-null  float64       \n",
      " 8   Customer ID         351569 non-null  int64         \n",
      " 9   Payment_Mode        351569 non-null  object        \n",
      " 10  Gender              351569 non-null  object        \n",
      " 11  Age                 351569 non-null  int64         \n",
      " 12  Income (USD/Month)  351569 non-null  int64         \n",
      " 13  Population          351569 non-null  object        \n",
      " 14  Users               351569 non-null  object        \n",
      " 15  Age group           351569 non-null  category      \n",
      " 16  z_profit            351569 non-null  float64       \n",
      " 17  z_price_charged     351569 non-null  float64       \n",
      "dtypes: category(1), datetime64[ns](1), float64(6), int64(4), object(6)\n",
      "memory usage: 48.6+ MB\n"
     ]
    }
   ],
   "source": [
    "df.info()"
   ]
  },
  {
   "cell_type": "code",
   "execution_count": 84,
   "id": "ce8999c4",
   "metadata": {},
   "outputs": [
    {
     "data": {
      "text/plain": [
       "Index(['Transaction ID', 'Company', 'City', 'KM Travelled', 'Price Charged',\n",
       "       'Cost of Trip', 'Date', 'Profit', 'Customer ID', 'Payment_Mode',\n",
       "       'Gender', 'Age', 'Income (USD/Month)', 'Population', 'Users',\n",
       "       'Age group', 'z_profit', 'z_price_charged'],\n",
       "      dtype='object')"
      ]
     },
     "execution_count": 84,
     "metadata": {},
     "output_type": "execute_result"
    }
   ],
   "source": [
    "df.columns"
   ]
  },
  {
   "cell_type": "code",
   "execution_count": 85,
   "id": "630138ef",
   "metadata": {},
   "outputs": [],
   "source": [
    "data=df[['Company', 'City', 'KM Travelled', 'Price Charged','Cost of Trip','Profit','Payment_Mode','Gender', 'Income (USD/Month)', 'Population', 'Users','Age']]"
   ]
  },
  {
   "cell_type": "code",
   "execution_count": 86,
   "id": "71207580",
   "metadata": {},
   "outputs": [
    {
     "data": {
      "text/plain": [
       "Index(['Company', 'City', 'KM Travelled', 'Price Charged', 'Cost of Trip',\n",
       "       'Profit', 'Payment_Mode', 'Gender', 'Income (USD/Month)', 'Population',\n",
       "       'Users', 'Age'],\n",
       "      dtype='object')"
      ]
     },
     "execution_count": 86,
     "metadata": {},
     "output_type": "execute_result"
    }
   ],
   "source": [
    "data.columns"
   ]
  },
  {
   "cell_type": "markdown",
   "id": "1f8d3f03-bb11-4e6a-aaf3-2c860d3622f8",
   "metadata": {},
   "source": [
    "## Label Encoding"
   ]
  },
  {
   "cell_type": "code",
   "execution_count": 87,
   "id": "df6183cf",
   "metadata": {},
   "outputs": [],
   "source": [
    "from sklearn.preprocessing import LabelEncoder\n",
    "lb= LabelEncoder()"
   ]
  },
  {
   "cell_type": "code",
   "execution_count": 88,
   "id": "e7c5a18b",
   "metadata": {},
   "outputs": [
    {
     "data": {
      "text/plain": [
       "LabelEncoder()"
      ]
     },
     "execution_count": 88,
     "metadata": {},
     "output_type": "execute_result"
    }
   ],
   "source": [
    "lb.fit(data['Company'])"
   ]
  },
  {
   "cell_type": "code",
   "execution_count": 89,
   "id": "1b62da16",
   "metadata": {},
   "outputs": [],
   "source": [
    "classes= list(lb.classes_)"
   ]
  },
  {
   "cell_type": "code",
   "execution_count": 90,
   "id": "b0a24db6",
   "metadata": {},
   "outputs": [
    {
     "data": {
      "text/plain": [
       "['Pink Cab', 'Yellow Cab']"
      ]
     },
     "execution_count": 90,
     "metadata": {},
     "output_type": "execute_result"
    }
   ],
   "source": [
    "classes"
   ]
  },
  {
   "cell_type": "code",
   "execution_count": 91,
   "id": "087bcd0a",
   "metadata": {},
   "outputs": [],
   "source": [
    "data['companies']= lb.fit_transform(data['Company'])"
   ]
  },
  {
   "cell_type": "code",
   "execution_count": 92,
   "id": "0cdfa667",
   "metadata": {},
   "outputs": [
    {
     "data": {
      "text/html": [
       "<div>\n",
       "<style scoped>\n",
       "    .dataframe tbody tr th:only-of-type {\n",
       "        vertical-align: middle;\n",
       "    }\n",
       "\n",
       "    .dataframe tbody tr th {\n",
       "        vertical-align: top;\n",
       "    }\n",
       "\n",
       "    .dataframe thead th {\n",
       "        text-align: right;\n",
       "    }\n",
       "</style>\n",
       "<table border=\"1\" class=\"dataframe\">\n",
       "  <thead>\n",
       "    <tr style=\"text-align: right;\">\n",
       "      <th></th>\n",
       "      <th>Company</th>\n",
       "      <th>City</th>\n",
       "      <th>KM Travelled</th>\n",
       "      <th>Price Charged</th>\n",
       "      <th>Cost of Trip</th>\n",
       "      <th>Profit</th>\n",
       "      <th>Payment_Mode</th>\n",
       "      <th>Gender</th>\n",
       "      <th>Income (USD/Month)</th>\n",
       "      <th>Population</th>\n",
       "      <th>Users</th>\n",
       "      <th>Age</th>\n",
       "      <th>companies</th>\n",
       "    </tr>\n",
       "  </thead>\n",
       "  <tbody>\n",
       "    <tr>\n",
       "      <th>0</th>\n",
       "      <td>Pink Cab</td>\n",
       "      <td>ATLANTA GA</td>\n",
       "      <td>30.45</td>\n",
       "      <td>370.95</td>\n",
       "      <td>313.6350</td>\n",
       "      <td>57.3150</td>\n",
       "      <td>Card</td>\n",
       "      <td>Male</td>\n",
       "      <td>10813</td>\n",
       "      <td>814,885</td>\n",
       "      <td>24,701</td>\n",
       "      <td>28</td>\n",
       "      <td>0</td>\n",
       "    </tr>\n",
       "    <tr>\n",
       "      <th>1</th>\n",
       "      <td>Yellow Cab</td>\n",
       "      <td>ATLANTA GA</td>\n",
       "      <td>26.19</td>\n",
       "      <td>598.70</td>\n",
       "      <td>317.4228</td>\n",
       "      <td>281.2772</td>\n",
       "      <td>Cash</td>\n",
       "      <td>Male</td>\n",
       "      <td>10813</td>\n",
       "      <td>814,885</td>\n",
       "      <td>24,701</td>\n",
       "      <td>28</td>\n",
       "      <td>1</td>\n",
       "    </tr>\n",
       "    <tr>\n",
       "      <th>2</th>\n",
       "      <td>Yellow Cab</td>\n",
       "      <td>ATLANTA GA</td>\n",
       "      <td>42.55</td>\n",
       "      <td>792.05</td>\n",
       "      <td>597.4020</td>\n",
       "      <td>194.6480</td>\n",
       "      <td>Card</td>\n",
       "      <td>Male</td>\n",
       "      <td>10813</td>\n",
       "      <td>814,885</td>\n",
       "      <td>24,701</td>\n",
       "      <td>28</td>\n",
       "      <td>1</td>\n",
       "    </tr>\n",
       "    <tr>\n",
       "      <th>3</th>\n",
       "      <td>Pink Cab</td>\n",
       "      <td>ATLANTA GA</td>\n",
       "      <td>28.62</td>\n",
       "      <td>358.52</td>\n",
       "      <td>334.8540</td>\n",
       "      <td>23.6660</td>\n",
       "      <td>Card</td>\n",
       "      <td>Male</td>\n",
       "      <td>9237</td>\n",
       "      <td>814,885</td>\n",
       "      <td>24,701</td>\n",
       "      <td>27</td>\n",
       "      <td>0</td>\n",
       "    </tr>\n",
       "    <tr>\n",
       "      <th>4</th>\n",
       "      <td>Yellow Cab</td>\n",
       "      <td>ATLANTA GA</td>\n",
       "      <td>36.38</td>\n",
       "      <td>721.10</td>\n",
       "      <td>467.1192</td>\n",
       "      <td>253.9808</td>\n",
       "      <td>Card</td>\n",
       "      <td>Male</td>\n",
       "      <td>9237</td>\n",
       "      <td>814,885</td>\n",
       "      <td>24,701</td>\n",
       "      <td>27</td>\n",
       "      <td>1</td>\n",
       "    </tr>\n",
       "  </tbody>\n",
       "</table>\n",
       "</div>"
      ],
      "text/plain": [
       "      Company        City  KM Travelled  Price Charged  Cost of Trip  \\\n",
       "0    Pink Cab  ATLANTA GA         30.45         370.95      313.6350   \n",
       "1  Yellow Cab  ATLANTA GA         26.19         598.70      317.4228   \n",
       "2  Yellow Cab  ATLANTA GA         42.55         792.05      597.4020   \n",
       "3    Pink Cab  ATLANTA GA         28.62         358.52      334.8540   \n",
       "4  Yellow Cab  ATLANTA GA         36.38         721.10      467.1192   \n",
       "\n",
       "     Profit Payment_Mode Gender  Income (USD/Month) Population     Users  Age  \\\n",
       "0   57.3150         Card   Male               10813   814,885    24,701    28   \n",
       "1  281.2772         Cash   Male               10813   814,885    24,701    28   \n",
       "2  194.6480         Card   Male               10813   814,885    24,701    28   \n",
       "3   23.6660         Card   Male                9237   814,885    24,701    27   \n",
       "4  253.9808         Card   Male                9237   814,885    24,701    27   \n",
       "\n",
       "   companies  \n",
       "0          0  \n",
       "1          1  \n",
       "2          1  \n",
       "3          0  \n",
       "4          1  "
      ]
     },
     "execution_count": 92,
     "metadata": {},
     "output_type": "execute_result"
    }
   ],
   "source": [
    "data.head(5)"
   ]
  },
  {
   "cell_type": "markdown",
   "id": "4a82d509-7d0a-4e4b-ae83-8002dbe66596",
   "metadata": {},
   "source": [
    "### 0 is for Pink Cab and 1 is for Yellow Cab"
   ]
  },
  {
   "cell_type": "code",
   "execution_count": 93,
   "id": "5a4f3e06",
   "metadata": {},
   "outputs": [
    {
     "data": {
      "text/plain": [
       "1    266887\n",
       "0     84682\n",
       "Name: companies, dtype: int64"
      ]
     },
     "execution_count": 93,
     "metadata": {},
     "output_type": "execute_result"
    }
   ],
   "source": [
    "data[\"companies\"].value_counts()"
   ]
  },
  {
   "cell_type": "code",
   "execution_count": 94,
   "id": "ae1ab495",
   "metadata": {},
   "outputs": [
    {
     "data": {
      "text/plain": [
       "2"
      ]
     },
     "execution_count": 94,
     "metadata": {},
     "output_type": "execute_result"
    }
   ],
   "source": [
    "data['companies'].nunique() # printing number of companies"
   ]
  },
  {
   "cell_type": "markdown",
   "id": "db2fd56b-796a-4719-907e-1eeeed4578d7",
   "metadata": {},
   "source": [
    "### Dropping Features [\"Gender\",\"Payment_Mode\",\"City\"] so that I have only numerical values for modeling"
   ]
  },
  {
   "cell_type": "code",
   "execution_count": 95,
   "id": "af9e4df0",
   "metadata": {},
   "outputs": [],
   "source": [
    "data.drop([\"Gender\",\"Payment_Mode\",\"City\",], axis=1, inplace=True)"
   ]
  },
  {
   "cell_type": "code",
   "execution_count": 96,
   "id": "4c0b422d",
   "metadata": {},
   "outputs": [
    {
     "data": {
      "text/html": [
       "<div>\n",
       "<style scoped>\n",
       "    .dataframe tbody tr th:only-of-type {\n",
       "        vertical-align: middle;\n",
       "    }\n",
       "\n",
       "    .dataframe tbody tr th {\n",
       "        vertical-align: top;\n",
       "    }\n",
       "\n",
       "    .dataframe thead th {\n",
       "        text-align: right;\n",
       "    }\n",
       "</style>\n",
       "<table border=\"1\" class=\"dataframe\">\n",
       "  <thead>\n",
       "    <tr style=\"text-align: right;\">\n",
       "      <th></th>\n",
       "      <th>Company</th>\n",
       "      <th>KM Travelled</th>\n",
       "      <th>Price Charged</th>\n",
       "      <th>Cost of Trip</th>\n",
       "      <th>Profit</th>\n",
       "      <th>Income (USD/Month)</th>\n",
       "      <th>Population</th>\n",
       "      <th>Users</th>\n",
       "      <th>Age</th>\n",
       "      <th>companies</th>\n",
       "    </tr>\n",
       "  </thead>\n",
       "  <tbody>\n",
       "    <tr>\n",
       "      <th>0</th>\n",
       "      <td>Pink Cab</td>\n",
       "      <td>30.45</td>\n",
       "      <td>370.95</td>\n",
       "      <td>313.6350</td>\n",
       "      <td>57.3150</td>\n",
       "      <td>10813</td>\n",
       "      <td>814,885</td>\n",
       "      <td>24,701</td>\n",
       "      <td>28</td>\n",
       "      <td>0</td>\n",
       "    </tr>\n",
       "    <tr>\n",
       "      <th>1</th>\n",
       "      <td>Yellow Cab</td>\n",
       "      <td>26.19</td>\n",
       "      <td>598.70</td>\n",
       "      <td>317.4228</td>\n",
       "      <td>281.2772</td>\n",
       "      <td>10813</td>\n",
       "      <td>814,885</td>\n",
       "      <td>24,701</td>\n",
       "      <td>28</td>\n",
       "      <td>1</td>\n",
       "    </tr>\n",
       "    <tr>\n",
       "      <th>2</th>\n",
       "      <td>Yellow Cab</td>\n",
       "      <td>42.55</td>\n",
       "      <td>792.05</td>\n",
       "      <td>597.4020</td>\n",
       "      <td>194.6480</td>\n",
       "      <td>10813</td>\n",
       "      <td>814,885</td>\n",
       "      <td>24,701</td>\n",
       "      <td>28</td>\n",
       "      <td>1</td>\n",
       "    </tr>\n",
       "    <tr>\n",
       "      <th>3</th>\n",
       "      <td>Pink Cab</td>\n",
       "      <td>28.62</td>\n",
       "      <td>358.52</td>\n",
       "      <td>334.8540</td>\n",
       "      <td>23.6660</td>\n",
       "      <td>9237</td>\n",
       "      <td>814,885</td>\n",
       "      <td>24,701</td>\n",
       "      <td>27</td>\n",
       "      <td>0</td>\n",
       "    </tr>\n",
       "    <tr>\n",
       "      <th>4</th>\n",
       "      <td>Yellow Cab</td>\n",
       "      <td>36.38</td>\n",
       "      <td>721.10</td>\n",
       "      <td>467.1192</td>\n",
       "      <td>253.9808</td>\n",
       "      <td>9237</td>\n",
       "      <td>814,885</td>\n",
       "      <td>24,701</td>\n",
       "      <td>27</td>\n",
       "      <td>1</td>\n",
       "    </tr>\n",
       "  </tbody>\n",
       "</table>\n",
       "</div>"
      ],
      "text/plain": [
       "      Company  KM Travelled  Price Charged  Cost of Trip    Profit  \\\n",
       "0    Pink Cab         30.45         370.95      313.6350   57.3150   \n",
       "1  Yellow Cab         26.19         598.70      317.4228  281.2772   \n",
       "2  Yellow Cab         42.55         792.05      597.4020  194.6480   \n",
       "3    Pink Cab         28.62         358.52      334.8540   23.6660   \n",
       "4  Yellow Cab         36.38         721.10      467.1192  253.9808   \n",
       "\n",
       "   Income (USD/Month) Population     Users  Age  companies  \n",
       "0               10813   814,885    24,701    28          0  \n",
       "1               10813   814,885    24,701    28          1  \n",
       "2               10813   814,885    24,701    28          1  \n",
       "3                9237   814,885    24,701    27          0  \n",
       "4                9237   814,885    24,701    27          1  "
      ]
     },
     "execution_count": 96,
     "metadata": {},
     "output_type": "execute_result"
    }
   ],
   "source": [
    "data.head()"
   ]
  },
  {
   "cell_type": "markdown",
   "id": "c7c406ee-4b95-4e8a-9310-76e01fb69702",
   "metadata": {},
   "source": [
    "### Found Company with name Yellow Cab and Pink Cab . I have already converted 0 for Pink Cab and 1 for Yellow Cab and the column is already shown so removing the extra column with categorical variables."
   ]
  },
  {
   "cell_type": "code",
   "execution_count": 97,
   "id": "f13a5f76",
   "metadata": {},
   "outputs": [
    {
     "data": {
      "text/html": [
       "<div>\n",
       "<style scoped>\n",
       "    .dataframe tbody tr th:only-of-type {\n",
       "        vertical-align: middle;\n",
       "    }\n",
       "\n",
       "    .dataframe tbody tr th {\n",
       "        vertical-align: top;\n",
       "    }\n",
       "\n",
       "    .dataframe thead th {\n",
       "        text-align: right;\n",
       "    }\n",
       "</style>\n",
       "<table border=\"1\" class=\"dataframe\">\n",
       "  <thead>\n",
       "    <tr style=\"text-align: right;\">\n",
       "      <th></th>\n",
       "      <th>KM Travelled</th>\n",
       "      <th>Price Charged</th>\n",
       "      <th>Cost of Trip</th>\n",
       "      <th>Profit</th>\n",
       "      <th>Income (USD/Month)</th>\n",
       "      <th>Population</th>\n",
       "      <th>Users</th>\n",
       "      <th>Age</th>\n",
       "      <th>companies</th>\n",
       "    </tr>\n",
       "  </thead>\n",
       "  <tbody>\n",
       "    <tr>\n",
       "      <th>0</th>\n",
       "      <td>30.45</td>\n",
       "      <td>370.95</td>\n",
       "      <td>313.6350</td>\n",
       "      <td>57.3150</td>\n",
       "      <td>10813</td>\n",
       "      <td>814,885</td>\n",
       "      <td>24,701</td>\n",
       "      <td>28</td>\n",
       "      <td>0</td>\n",
       "    </tr>\n",
       "    <tr>\n",
       "      <th>1</th>\n",
       "      <td>26.19</td>\n",
       "      <td>598.70</td>\n",
       "      <td>317.4228</td>\n",
       "      <td>281.2772</td>\n",
       "      <td>10813</td>\n",
       "      <td>814,885</td>\n",
       "      <td>24,701</td>\n",
       "      <td>28</td>\n",
       "      <td>1</td>\n",
       "    </tr>\n",
       "    <tr>\n",
       "      <th>2</th>\n",
       "      <td>42.55</td>\n",
       "      <td>792.05</td>\n",
       "      <td>597.4020</td>\n",
       "      <td>194.6480</td>\n",
       "      <td>10813</td>\n",
       "      <td>814,885</td>\n",
       "      <td>24,701</td>\n",
       "      <td>28</td>\n",
       "      <td>1</td>\n",
       "    </tr>\n",
       "    <tr>\n",
       "      <th>3</th>\n",
       "      <td>28.62</td>\n",
       "      <td>358.52</td>\n",
       "      <td>334.8540</td>\n",
       "      <td>23.6660</td>\n",
       "      <td>9237</td>\n",
       "      <td>814,885</td>\n",
       "      <td>24,701</td>\n",
       "      <td>27</td>\n",
       "      <td>0</td>\n",
       "    </tr>\n",
       "    <tr>\n",
       "      <th>4</th>\n",
       "      <td>36.38</td>\n",
       "      <td>721.10</td>\n",
       "      <td>467.1192</td>\n",
       "      <td>253.9808</td>\n",
       "      <td>9237</td>\n",
       "      <td>814,885</td>\n",
       "      <td>24,701</td>\n",
       "      <td>27</td>\n",
       "      <td>1</td>\n",
       "    </tr>\n",
       "    <tr>\n",
       "      <th>...</th>\n",
       "      <td>...</td>\n",
       "      <td>...</td>\n",
       "      <td>...</td>\n",
       "      <td>...</td>\n",
       "      <td>...</td>\n",
       "      <td>...</td>\n",
       "      <td>...</td>\n",
       "      <td>...</td>\n",
       "      <td>...</td>\n",
       "    </tr>\n",
       "    <tr>\n",
       "      <th>359387</th>\n",
       "      <td>38.40</td>\n",
       "      <td>668.93</td>\n",
       "      <td>525.3120</td>\n",
       "      <td>143.6180</td>\n",
       "      <td>6829</td>\n",
       "      <td>418,859</td>\n",
       "      <td>127,001</td>\n",
       "      <td>29</td>\n",
       "      <td>1</td>\n",
       "    </tr>\n",
       "    <tr>\n",
       "      <th>359388</th>\n",
       "      <td>3.57</td>\n",
       "      <td>67.60</td>\n",
       "      <td>44.5536</td>\n",
       "      <td>23.0464</td>\n",
       "      <td>6829</td>\n",
       "      <td>418,859</td>\n",
       "      <td>127,001</td>\n",
       "      <td>29</td>\n",
       "      <td>1</td>\n",
       "    </tr>\n",
       "    <tr>\n",
       "      <th>359389</th>\n",
       "      <td>23.46</td>\n",
       "      <td>331.97</td>\n",
       "      <td>337.8240</td>\n",
       "      <td>-5.8540</td>\n",
       "      <td>6829</td>\n",
       "      <td>418,859</td>\n",
       "      <td>127,001</td>\n",
       "      <td>29</td>\n",
       "      <td>1</td>\n",
       "    </tr>\n",
       "    <tr>\n",
       "      <th>359390</th>\n",
       "      <td>27.60</td>\n",
       "      <td>358.23</td>\n",
       "      <td>364.3200</td>\n",
       "      <td>-6.0900</td>\n",
       "      <td>6829</td>\n",
       "      <td>418,859</td>\n",
       "      <td>127,001</td>\n",
       "      <td>29</td>\n",
       "      <td>1</td>\n",
       "    </tr>\n",
       "    <tr>\n",
       "      <th>359391</th>\n",
       "      <td>34.24</td>\n",
       "      <td>453.11</td>\n",
       "      <td>427.3152</td>\n",
       "      <td>25.7948</td>\n",
       "      <td>6829</td>\n",
       "      <td>418,859</td>\n",
       "      <td>127,001</td>\n",
       "      <td>29</td>\n",
       "      <td>1</td>\n",
       "    </tr>\n",
       "  </tbody>\n",
       "</table>\n",
       "<p>351569 rows × 9 columns</p>\n",
       "</div>"
      ],
      "text/plain": [
       "        KM Travelled  Price Charged  Cost of Trip    Profit  \\\n",
       "0              30.45         370.95      313.6350   57.3150   \n",
       "1              26.19         598.70      317.4228  281.2772   \n",
       "2              42.55         792.05      597.4020  194.6480   \n",
       "3              28.62         358.52      334.8540   23.6660   \n",
       "4              36.38         721.10      467.1192  253.9808   \n",
       "...              ...            ...           ...       ...   \n",
       "359387         38.40         668.93      525.3120  143.6180   \n",
       "359388          3.57          67.60       44.5536   23.0464   \n",
       "359389         23.46         331.97      337.8240   -5.8540   \n",
       "359390         27.60         358.23      364.3200   -6.0900   \n",
       "359391         34.24         453.11      427.3152   25.7948   \n",
       "\n",
       "        Income (USD/Month) Population      Users  Age  companies  \n",
       "0                    10813   814,885     24,701    28          0  \n",
       "1                    10813   814,885     24,701    28          1  \n",
       "2                    10813   814,885     24,701    28          1  \n",
       "3                     9237   814,885     24,701    27          0  \n",
       "4                     9237   814,885     24,701    27          1  \n",
       "...                    ...        ...        ...  ...        ...  \n",
       "359387                6829   418,859    127,001    29          1  \n",
       "359388                6829   418,859    127,001    29          1  \n",
       "359389                6829   418,859    127,001    29          1  \n",
       "359390                6829   418,859    127,001    29          1  \n",
       "359391                6829   418,859    127,001    29          1  \n",
       "\n",
       "[351569 rows x 9 columns]"
      ]
     },
     "execution_count": 97,
     "metadata": {},
     "output_type": "execute_result"
    }
   ],
   "source": [
    "data.drop(\"Company\",axis=1)"
   ]
  },
  {
   "cell_type": "code",
   "execution_count": 98,
   "id": "2522a5e5-a359-4648-be16-1f43c104a7c9",
   "metadata": {},
   "outputs": [
    {
     "data": {
      "text/plain": [
       "Index(['Company', 'KM Travelled', 'Price Charged', 'Cost of Trip', 'Profit',\n",
       "       'Income (USD/Month)', 'Population', 'Users', 'Age', 'companies'],\n",
       "      dtype='object')"
      ]
     },
     "execution_count": 98,
     "metadata": {},
     "output_type": "execute_result"
    }
   ],
   "source": [
    "data.columns"
   ]
  },
  {
   "cell_type": "markdown",
   "id": "d32d240b-aeda-4bd4-bfde-8c75a9db3aa0",
   "metadata": {},
   "source": [
    "### String values noted while Normalizing"
   ]
  },
  {
   "cell_type": "code",
   "execution_count": 99,
   "id": "a228926b-847b-44b5-87f9-6f3355e78a18",
   "metadata": {},
   "outputs": [],
   "source": [
    "data.Population = data.Population.str.replace(',','').astype(float)\n",
    "data.Users = data.Users.str.replace(',','').astype(float) # string values noted while normalizing"
   ]
  },
  {
   "cell_type": "markdown",
   "id": "9b1008fb-9f59-4a31-9c90-3cbfb0375553",
   "metadata": {},
   "source": [
    "### Splitting Data into Training and Test Set"
   ]
  },
  {
   "cell_type": "code",
   "execution_count": 100,
   "id": "13069537",
   "metadata": {},
   "outputs": [],
   "source": [
    "X = data[['KM Travelled', 'Price Charged', 'Cost of Trip',\n",
    "       'Profit','Age', 'Income (USD/Month)',\n",
    "       'Population', 'Users', ]]\n",
    "y = data['Profit']"
   ]
  },
  {
   "cell_type": "code",
   "execution_count": 101,
   "id": "0c713159",
   "metadata": {},
   "outputs": [
    {
     "data": {
      "text/html": [
       "<div>\n",
       "<style scoped>\n",
       "    .dataframe tbody tr th:only-of-type {\n",
       "        vertical-align: middle;\n",
       "    }\n",
       "\n",
       "    .dataframe tbody tr th {\n",
       "        vertical-align: top;\n",
       "    }\n",
       "\n",
       "    .dataframe thead th {\n",
       "        text-align: right;\n",
       "    }\n",
       "</style>\n",
       "<table border=\"1\" class=\"dataframe\">\n",
       "  <thead>\n",
       "    <tr style=\"text-align: right;\">\n",
       "      <th></th>\n",
       "      <th>KM Travelled</th>\n",
       "      <th>Price Charged</th>\n",
       "      <th>Cost of Trip</th>\n",
       "      <th>Profit</th>\n",
       "      <th>Age</th>\n",
       "      <th>Income (USD/Month)</th>\n",
       "      <th>Population</th>\n",
       "      <th>Users</th>\n",
       "    </tr>\n",
       "  </thead>\n",
       "  <tbody>\n",
       "    <tr>\n",
       "      <th>0</th>\n",
       "      <td>30.45</td>\n",
       "      <td>370.95</td>\n",
       "      <td>313.6350</td>\n",
       "      <td>57.3150</td>\n",
       "      <td>28</td>\n",
       "      <td>10813</td>\n",
       "      <td>814885.0</td>\n",
       "      <td>24701.0</td>\n",
       "    </tr>\n",
       "    <tr>\n",
       "      <th>1</th>\n",
       "      <td>26.19</td>\n",
       "      <td>598.70</td>\n",
       "      <td>317.4228</td>\n",
       "      <td>281.2772</td>\n",
       "      <td>28</td>\n",
       "      <td>10813</td>\n",
       "      <td>814885.0</td>\n",
       "      <td>24701.0</td>\n",
       "    </tr>\n",
       "    <tr>\n",
       "      <th>2</th>\n",
       "      <td>42.55</td>\n",
       "      <td>792.05</td>\n",
       "      <td>597.4020</td>\n",
       "      <td>194.6480</td>\n",
       "      <td>28</td>\n",
       "      <td>10813</td>\n",
       "      <td>814885.0</td>\n",
       "      <td>24701.0</td>\n",
       "    </tr>\n",
       "    <tr>\n",
       "      <th>3</th>\n",
       "      <td>28.62</td>\n",
       "      <td>358.52</td>\n",
       "      <td>334.8540</td>\n",
       "      <td>23.6660</td>\n",
       "      <td>27</td>\n",
       "      <td>9237</td>\n",
       "      <td>814885.0</td>\n",
       "      <td>24701.0</td>\n",
       "    </tr>\n",
       "    <tr>\n",
       "      <th>4</th>\n",
       "      <td>36.38</td>\n",
       "      <td>721.10</td>\n",
       "      <td>467.1192</td>\n",
       "      <td>253.9808</td>\n",
       "      <td>27</td>\n",
       "      <td>9237</td>\n",
       "      <td>814885.0</td>\n",
       "      <td>24701.0</td>\n",
       "    </tr>\n",
       "    <tr>\n",
       "      <th>...</th>\n",
       "      <td>...</td>\n",
       "      <td>...</td>\n",
       "      <td>...</td>\n",
       "      <td>...</td>\n",
       "      <td>...</td>\n",
       "      <td>...</td>\n",
       "      <td>...</td>\n",
       "      <td>...</td>\n",
       "    </tr>\n",
       "    <tr>\n",
       "      <th>359387</th>\n",
       "      <td>38.40</td>\n",
       "      <td>668.93</td>\n",
       "      <td>525.3120</td>\n",
       "      <td>143.6180</td>\n",
       "      <td>29</td>\n",
       "      <td>6829</td>\n",
       "      <td>418859.0</td>\n",
       "      <td>127001.0</td>\n",
       "    </tr>\n",
       "    <tr>\n",
       "      <th>359388</th>\n",
       "      <td>3.57</td>\n",
       "      <td>67.60</td>\n",
       "      <td>44.5536</td>\n",
       "      <td>23.0464</td>\n",
       "      <td>29</td>\n",
       "      <td>6829</td>\n",
       "      <td>418859.0</td>\n",
       "      <td>127001.0</td>\n",
       "    </tr>\n",
       "    <tr>\n",
       "      <th>359389</th>\n",
       "      <td>23.46</td>\n",
       "      <td>331.97</td>\n",
       "      <td>337.8240</td>\n",
       "      <td>-5.8540</td>\n",
       "      <td>29</td>\n",
       "      <td>6829</td>\n",
       "      <td>418859.0</td>\n",
       "      <td>127001.0</td>\n",
       "    </tr>\n",
       "    <tr>\n",
       "      <th>359390</th>\n",
       "      <td>27.60</td>\n",
       "      <td>358.23</td>\n",
       "      <td>364.3200</td>\n",
       "      <td>-6.0900</td>\n",
       "      <td>29</td>\n",
       "      <td>6829</td>\n",
       "      <td>418859.0</td>\n",
       "      <td>127001.0</td>\n",
       "    </tr>\n",
       "    <tr>\n",
       "      <th>359391</th>\n",
       "      <td>34.24</td>\n",
       "      <td>453.11</td>\n",
       "      <td>427.3152</td>\n",
       "      <td>25.7948</td>\n",
       "      <td>29</td>\n",
       "      <td>6829</td>\n",
       "      <td>418859.0</td>\n",
       "      <td>127001.0</td>\n",
       "    </tr>\n",
       "  </tbody>\n",
       "</table>\n",
       "<p>351569 rows × 8 columns</p>\n",
       "</div>"
      ],
      "text/plain": [
       "        KM Travelled  Price Charged  Cost of Trip    Profit  Age  \\\n",
       "0              30.45         370.95      313.6350   57.3150   28   \n",
       "1              26.19         598.70      317.4228  281.2772   28   \n",
       "2              42.55         792.05      597.4020  194.6480   28   \n",
       "3              28.62         358.52      334.8540   23.6660   27   \n",
       "4              36.38         721.10      467.1192  253.9808   27   \n",
       "...              ...            ...           ...       ...  ...   \n",
       "359387         38.40         668.93      525.3120  143.6180   29   \n",
       "359388          3.57          67.60       44.5536   23.0464   29   \n",
       "359389         23.46         331.97      337.8240   -5.8540   29   \n",
       "359390         27.60         358.23      364.3200   -6.0900   29   \n",
       "359391         34.24         453.11      427.3152   25.7948   29   \n",
       "\n",
       "        Income (USD/Month)  Population     Users  \n",
       "0                    10813    814885.0   24701.0  \n",
       "1                    10813    814885.0   24701.0  \n",
       "2                    10813    814885.0   24701.0  \n",
       "3                     9237    814885.0   24701.0  \n",
       "4                     9237    814885.0   24701.0  \n",
       "...                    ...         ...       ...  \n",
       "359387                6829    418859.0  127001.0  \n",
       "359388                6829    418859.0  127001.0  \n",
       "359389                6829    418859.0  127001.0  \n",
       "359390                6829    418859.0  127001.0  \n",
       "359391                6829    418859.0  127001.0  \n",
       "\n",
       "[351569 rows x 8 columns]"
      ]
     },
     "execution_count": 101,
     "metadata": {},
     "output_type": "execute_result"
    }
   ],
   "source": [
    "X"
   ]
  },
  {
   "cell_type": "code",
   "execution_count": 102,
   "id": "929c79f9",
   "metadata": {},
   "outputs": [
    {
     "data": {
      "text/plain": [
       "0          57.3150\n",
       "1         281.2772\n",
       "2         194.6480\n",
       "3          23.6660\n",
       "4         253.9808\n",
       "            ...   \n",
       "359387    143.6180\n",
       "359388     23.0464\n",
       "359389     -5.8540\n",
       "359390     -6.0900\n",
       "359391     25.7948\n",
       "Name: Profit, Length: 351569, dtype: float64"
      ]
     },
     "execution_count": 102,
     "metadata": {},
     "output_type": "execute_result"
    }
   ],
   "source": [
    "y"
   ]
  },
  {
   "cell_type": "code",
   "execution_count": 103,
   "id": "27bf6d6e",
   "metadata": {},
   "outputs": [],
   "source": [
    "X_train, X_test, y_train, y_test = train_test_split(X,y, test_size=0.2, random_state=42)"
   ]
  },
  {
   "cell_type": "code",
   "execution_count": 104,
   "id": "3b3fb3d6",
   "metadata": {},
   "outputs": [
    {
     "name": "stdout",
     "output_type": "stream",
     "text": [
      "(281255, 8)\n",
      "(70314, 8)\n",
      "(281255,)\n",
      "(70314,)\n"
     ]
    }
   ],
   "source": [
    "print(X_train.shape)\n",
    "print(X_test.shape)\n",
    "print(y_train.shape)\n",
    "print(y_test.shape)"
   ]
  },
  {
   "cell_type": "code",
   "execution_count": 105,
   "id": "c502259c-5bad-404a-b052-d9d4813639b6",
   "metadata": {},
   "outputs": [
    {
     "name": "stdout",
     "output_type": "stream",
     "text": [
      "<class 'pandas.core.frame.DataFrame'>\n",
      "Int64Index: 281255 entries, 238548 to 122173\n",
      "Data columns (total 8 columns):\n",
      " #   Column              Non-Null Count   Dtype  \n",
      "---  ------              --------------   -----  \n",
      " 0   KM Travelled        281255 non-null  float64\n",
      " 1   Price Charged       281255 non-null  float64\n",
      " 2   Cost of Trip        281255 non-null  float64\n",
      " 3   Profit              281255 non-null  float64\n",
      " 4   Age                 281255 non-null  int64  \n",
      " 5   Income (USD/Month)  281255 non-null  int64  \n",
      " 6   Population          281255 non-null  float64\n",
      " 7   Users               281255 non-null  float64\n",
      "dtypes: float64(6), int64(2)\n",
      "memory usage: 19.3 MB\n"
     ]
    }
   ],
   "source": [
    "X_train.info()"
   ]
  },
  {
   "cell_type": "markdown",
   "id": "068052ae-28ca-43f6-84ec-d07104a48ee0",
   "metadata": {},
   "source": [
    "### Normalizing"
   ]
  },
  {
   "cell_type": "code",
   "execution_count": 106,
   "id": "8f4a5133",
   "metadata": {},
   "outputs": [],
   "source": [
    "scaler = MinMaxScaler()\n",
    "X_train = scaler.fit_transform(X_train)\n",
    "X_test = scaler.transform(X_test)"
   ]
  },
  {
   "cell_type": "code",
   "execution_count": 107,
   "id": "421cf7a0",
   "metadata": {},
   "outputs": [
    {
     "name": "stdout",
     "output_type": "stream",
     "text": [
      "Coefficients:  [ 6.20007014e-12  1.58726582e+03 -9.37039551e+02 -3.21844275e+02\n",
      "  6.08291195e-13  3.12638804e-13 -3.41060513e-13  7.10542736e-14]\n"
     ]
    }
   ],
   "source": [
    "from sklearn import datasets, linear_model, metrics\n",
    "reg = linear_model.LinearRegression()\n",
    " \n",
    "# train the model using the training sets\n",
    "reg.fit(X_train, y_train)\n",
    " \n",
    "# regression coefficients\n",
    "print('Coefficients: ', reg.coef_)"
   ]
  },
  {
   "cell_type": "markdown",
   "id": "ba682bf3-f065-49be-a44e-3373893cc849",
   "metadata": {},
   "source": [
    "### Cross Validation "
   ]
  },
  {
   "cell_type": "code",
   "execution_count": 108,
   "id": "24c177e8",
   "metadata": {},
   "outputs": [],
   "source": [
    "\n",
    "def get_cross_val(model, X_train, y_train, X_valid, y_valid):\n",
    "    \n",
    "    # Fit on train, predict on validation\n",
    "    clf = model\n",
    "    clf.fit(X_train, y_train)\n",
    "    y_pred = clf.predict(X_valid)\n",
    "    \n",
    "    # Cross validation score over 10 folds\n",
    "    scores = cross_val_score(clf, X_train, y_train, cv=10)\n",
    "    print(\"Cross validation over 10 folds: \", sum(scores)/10.0)\n",
    "    \n",
    "    return y_pred"
   ]
  },
  {
   "cell_type": "markdown",
   "id": "53cf5fd2-24ca-46b7-80b5-eaf06211c97a",
   "metadata": {},
   "source": [
    "## Applying Linear Regression Model"
   ]
  },
  {
   "cell_type": "code",
   "execution_count": 109,
   "id": "892cb442",
   "metadata": {},
   "outputs": [
    {
     "name": "stdout",
     "output_type": "stream",
     "text": [
      "LinearRegression: 100.0 \n",
      "\n",
      "Cross validation over 10 folds:  1.0\n"
     ]
    },
    {
     "data": {
      "text/plain": [
       "array([113.902 , 118.9316,  55.    , ...,  27.682 , 246.5196, 146.3204])"
      ]
     },
     "execution_count": 109,
     "metadata": {},
     "output_type": "execute_result"
    }
   ],
   "source": [
    "Model = 'Linear Regression'\n",
    "lin_predicted = reg.predict(X_test)\n",
    "lin_acc_score = reg.score(X_train, y_train)\n",
    "print(\"LinearRegression:\",lin_acc_score*100,'\\n')\n",
    "get_cross_val(reg, X_train, y_train, X_test, y_test)"
   ]
  },
  {
   "cell_type": "code",
   "execution_count": 110,
   "id": "8aa4db92",
   "metadata": {},
   "outputs": [],
   "source": [
    "from sklearn.metrics import mean_squared_error, r2_score"
   ]
  },
  {
   "cell_type": "code",
   "execution_count": 111,
   "id": "cc04c8f3",
   "metadata": {},
   "outputs": [],
   "source": [
    "# Make predictions using the testing set\n",
    "y_pred = reg.predict(X_test)\n"
   ]
  },
  {
   "cell_type": "code",
   "execution_count": 112,
   "id": "4092c799",
   "metadata": {},
   "outputs": [
    {
     "name": "stdout",
     "output_type": "stream",
     "text": [
      "Mean squared error: 0.00\n",
      "Coefficient of determination: 1.00\n"
     ]
    }
   ],
   "source": [
    "print(\"Mean squared error: %.2f\" % mean_squared_error(y_test, y_pred))\n",
    "# The coefficient of determination: 1 is perfect prediction\n",
    "print(\"Coefficient of determination: %.2f\" % r2_score(y_test, y_pred))"
   ]
  },
  {
   "cell_type": "code",
   "execution_count": 113,
   "id": "26234ca7",
   "metadata": {},
   "outputs": [
    {
     "name": "stdout",
     "output_type": "stream",
     "text": [
      "Coefficients: \n",
      " [ 6.20007014e-12  1.58726582e+03 -9.37039551e+02 -3.21844275e+02\n",
      "  6.08291195e-13  3.12638804e-13 -3.41060513e-13  7.10542736e-14]\n",
      "Mean squared error: 0.00\n",
      "Coefficient of determination: 1.00\n"
     ]
    }
   ],
   "source": [
    "# The coefficients\n",
    "print(\"Coefficients: \\n\", reg.coef_)\n",
    "# The mean squared error\n",
    "print(\"Mean squared error: %.2f\" % mean_squared_error(y_test, y_pred))\n",
    "# The coefficient of determination: 1 is perfect prediction\n",
    "print(\"Coefficient of determination: %.2f\" % r2_score(y_test, y_pred))\n",
    "\n"
   ]
  },
  {
   "cell_type": "markdown",
   "id": "3b8c0ca6-d120-4d70-bd26-52903a9aaab7",
   "metadata": {},
   "source": [
    "## Conclusion\n",
    "\n",
    "#### From the data it is noted that the rides to New York have got more users which in turn have increased the income and profit of the firm.\n",
    "\n",
    "#### It is well noted that Yellow cab is an outstanding performer as compared to Pink cab.\n",
    "\n",
    "#### The demand for Yellow cab was higher as compared to Pink cab as it travelled longer kilometers as compared to pink cab and while taking the case of the availability for more cab was there even though many of yellow cab have gone for longer trips.\n",
    "\n",
    "#### The price charged by Yellow cab as compared to Pink cab was higher because Yellow Cab had covered more longer trips than Pink Cab. \n",
    "\n"
   ]
  }
 ],
 "metadata": {
  "kernelspec": {
   "display_name": "Python 3 (ipykernel)",
   "language": "python",
   "name": "python3"
  },
  "language_info": {
   "codemirror_mode": {
    "name": "ipython",
    "version": 3
   },
   "file_extension": ".py",
   "mimetype": "text/x-python",
   "name": "python",
   "nbconvert_exporter": "python",
   "pygments_lexer": "ipython3",
   "version": "3.9.7"
  }
 },
 "nbformat": 4,
 "nbformat_minor": 5
}
